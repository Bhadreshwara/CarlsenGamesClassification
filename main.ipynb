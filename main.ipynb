{
 "cells": [
  {
   "cell_type": "code",
   "execution_count": 3,
   "metadata": {},
   "outputs": [],
   "source": [
    "import pandas as pd\n",
    "import numpy as np\n",
    "import matplotlib.pyplot as plt\n",
    "import seaborn as sns\n",
    "import warnings\n",
    "warnings.filterwarnings('ignore')\n",
    "import datetime as dt\n"
   ]
  },
  {
   "cell_type": "code",
   "execution_count": 4,
   "metadata": {},
   "outputs": [],
   "source": [
    "data = pd.read_csv('DrNykterstein.csv')"
   ]
  },
  {
   "cell_type": "code",
   "execution_count": 5,
   "metadata": {},
   "outputs": [
    {
     "data": {
      "text/plain": [
       "(8686, 634)"
      ]
     },
     "execution_count": 5,
     "metadata": {},
     "output_type": "execute_result"
    }
   ],
   "source": [
    "data.shape"
   ]
  },
  {
   "cell_type": "code",
   "execution_count": 6,
   "metadata": {},
   "outputs": [],
   "source": [
    "data = data[['Date', 'White', 'Black', 'Result', 'WhiteElo', 'BlackElo', \n",
    "             'WhiteRatingDiff', 'BlackRatingDiff', 'Variant', 'Opening', 'TimeControl', 'Termination']]\n",
    "\n"
   ]
  },
  {
   "cell_type": "code",
   "execution_count": 7,
   "metadata": {},
   "outputs": [
    {
     "data": {
      "text/html": [
       "<div>\n",
       "<style scoped>\n",
       "    .dataframe tbody tr th:only-of-type {\n",
       "        vertical-align: middle;\n",
       "    }\n",
       "\n",
       "    .dataframe tbody tr th {\n",
       "        vertical-align: top;\n",
       "    }\n",
       "\n",
       "    .dataframe thead th {\n",
       "        text-align: right;\n",
       "    }\n",
       "</style>\n",
       "<table border=\"1\" class=\"dataframe\">\n",
       "  <thead>\n",
       "    <tr style=\"text-align: right;\">\n",
       "      <th></th>\n",
       "      <th>Date</th>\n",
       "      <th>White</th>\n",
       "      <th>Black</th>\n",
       "      <th>Result</th>\n",
       "      <th>WhiteElo</th>\n",
       "      <th>BlackElo</th>\n",
       "      <th>WhiteRatingDiff</th>\n",
       "      <th>BlackRatingDiff</th>\n",
       "      <th>Variant</th>\n",
       "      <th>Opening</th>\n",
       "      <th>TimeControl</th>\n",
       "      <th>Termination</th>\n",
       "    </tr>\n",
       "  </thead>\n",
       "  <tbody>\n",
       "    <tr>\n",
       "      <th>0</th>\n",
       "      <td>2021.07.03</td>\n",
       "      <td>DrNykterstein</td>\n",
       "      <td>mutdpro</td>\n",
       "      <td>1-0</td>\n",
       "      <td>3098</td>\n",
       "      <td>2801</td>\n",
       "      <td>4</td>\n",
       "      <td>-2</td>\n",
       "      <td>Standard</td>\n",
       "      <td>Sicilian Defense: Accelerated Dragon  Modern V...</td>\n",
       "      <td>180+0</td>\n",
       "      <td>Normal</td>\n",
       "    </tr>\n",
       "    <tr>\n",
       "      <th>1</th>\n",
       "      <td>2021.07.03</td>\n",
       "      <td>sumsar42</td>\n",
       "      <td>DrNykterstein</td>\n",
       "      <td>1-0</td>\n",
       "      <td>2820</td>\n",
       "      <td>3118</td>\n",
       "      <td>10</td>\n",
       "      <td>-20</td>\n",
       "      <td>Standard</td>\n",
       "      <td>King's Indian Attack: Spassky Variation</td>\n",
       "      <td>180+0</td>\n",
       "      <td>Normal</td>\n",
       "    </tr>\n",
       "    <tr>\n",
       "      <th>2</th>\n",
       "      <td>2021.07.03</td>\n",
       "      <td>DrNykterstein</td>\n",
       "      <td>Jasugi99</td>\n",
       "      <td>1-0</td>\n",
       "      <td>3116</td>\n",
       "      <td>2679</td>\n",
       "      <td>2</td>\n",
       "      <td>0</td>\n",
       "      <td>Standard</td>\n",
       "      <td>St. George Defense: Polish Variation</td>\n",
       "      <td>180+0</td>\n",
       "      <td>Normal</td>\n",
       "    </tr>\n",
       "    <tr>\n",
       "      <th>3</th>\n",
       "      <td>2021.07.03</td>\n",
       "      <td>Chesstoday</td>\n",
       "      <td>DrNykterstein</td>\n",
       "      <td>1-0</td>\n",
       "      <td>2825</td>\n",
       "      <td>3136</td>\n",
       "      <td>10</td>\n",
       "      <td>-20</td>\n",
       "      <td>Standard</td>\n",
       "      <td>Scotch Game: Classical Variation</td>\n",
       "      <td>180+0</td>\n",
       "      <td>Normal</td>\n",
       "    </tr>\n",
       "    <tr>\n",
       "      <th>4</th>\n",
       "      <td>2021.07.03</td>\n",
       "      <td>DrNykterstein</td>\n",
       "      <td>Alexsur81</td>\n",
       "      <td>1-0</td>\n",
       "      <td>3133</td>\n",
       "      <td>2810</td>\n",
       "      <td>3</td>\n",
       "      <td>-2</td>\n",
       "      <td>Standard</td>\n",
       "      <td>King's Indian Attack</td>\n",
       "      <td>180+0</td>\n",
       "      <td>Normal</td>\n",
       "    </tr>\n",
       "  </tbody>\n",
       "</table>\n",
       "</div>"
      ],
      "text/plain": [
       "         Date          White          Black Result  WhiteElo  BlackElo  \\\n",
       "0  2021.07.03  DrNykterstein        mutdpro    1-0      3098      2801   \n",
       "1  2021.07.03       sumsar42  DrNykterstein    1-0      2820      3118   \n",
       "2  2021.07.03  DrNykterstein       Jasugi99    1-0      3116      2679   \n",
       "3  2021.07.03     Chesstoday  DrNykterstein    1-0      2825      3136   \n",
       "4  2021.07.03  DrNykterstein      Alexsur81    1-0      3133      2810   \n",
       "\n",
       "   WhiteRatingDiff  BlackRatingDiff   Variant  \\\n",
       "0                4               -2  Standard   \n",
       "1               10              -20  Standard   \n",
       "2                2                0  Standard   \n",
       "3               10              -20  Standard   \n",
       "4                3               -2  Standard   \n",
       "\n",
       "                                             Opening TimeControl Termination  \n",
       "0  Sicilian Defense: Accelerated Dragon  Modern V...       180+0      Normal  \n",
       "1            King's Indian Attack: Spassky Variation       180+0      Normal  \n",
       "2               St. George Defense: Polish Variation       180+0      Normal  \n",
       "3                   Scotch Game: Classical Variation       180+0      Normal  \n",
       "4                               King's Indian Attack       180+0      Normal  "
      ]
     },
     "execution_count": 7,
     "metadata": {},
     "output_type": "execute_result"
    }
   ],
   "source": [
    "data.head()"
   ]
  },
  {
   "cell_type": "code",
   "execution_count": 8,
   "metadata": {},
   "outputs": [
    {
     "name": "stdout",
     "output_type": "stream",
     "text": [
      "<class 'pandas.core.frame.DataFrame'>\n",
      "RangeIndex: 8686 entries, 0 to 8685\n",
      "Data columns (total 12 columns):\n",
      " #   Column           Non-Null Count  Dtype \n",
      "---  ------           --------------  ----- \n",
      " 0   Date             8686 non-null   object\n",
      " 1   White            8686 non-null   object\n",
      " 2   Black            8686 non-null   object\n",
      " 3   Result           8686 non-null   object\n",
      " 4   WhiteElo         8686 non-null   int64 \n",
      " 5   BlackElo         8686 non-null   int64 \n",
      " 6   WhiteRatingDiff  8686 non-null   int64 \n",
      " 7   BlackRatingDiff  8686 non-null   int64 \n",
      " 8   Variant          8686 non-null   object\n",
      " 9   Opening          8686 non-null   object\n",
      " 10  TimeControl      8686 non-null   object\n",
      " 11  Termination      8686 non-null   object\n",
      "dtypes: int64(4), object(8)\n",
      "memory usage: 814.4+ KB\n"
     ]
    }
   ],
   "source": [
    "data.info()"
   ]
  },
  {
   "cell_type": "code",
   "execution_count": 9,
   "metadata": {},
   "outputs": [
    {
     "data": {
      "text/plain": [
       "(8686, 12)"
      ]
     },
     "execution_count": 9,
     "metadata": {},
     "output_type": "execute_result"
    }
   ],
   "source": [
    "data.shape"
   ]
  },
  {
   "cell_type": "code",
   "execution_count": 10,
   "metadata": {},
   "outputs": [
    {
     "data": {
      "text/plain": [
       "Date               0\n",
       "White              0\n",
       "Black              0\n",
       "Result             0\n",
       "WhiteElo           0\n",
       "BlackElo           0\n",
       "WhiteRatingDiff    0\n",
       "BlackRatingDiff    0\n",
       "Variant            0\n",
       "Opening            0\n",
       "TimeControl        0\n",
       "Termination        0\n",
       "dtype: int64"
      ]
     },
     "execution_count": 10,
     "metadata": {},
     "output_type": "execute_result"
    }
   ],
   "source": [
    "data.isna().sum()"
   ]
  },
  {
   "cell_type": "code",
   "execution_count": 11,
   "metadata": {},
   "outputs": [
    {
     "data": {
      "text/plain": [
       "Date               0\n",
       "White              0\n",
       "Black              0\n",
       "Result             0\n",
       "WhiteElo           0\n",
       "BlackElo           0\n",
       "WhiteRatingDiff    0\n",
       "BlackRatingDiff    0\n",
       "Variant            0\n",
       "Opening            0\n",
       "TimeControl        0\n",
       "Termination        0\n",
       "dtype: int64"
      ]
     },
     "execution_count": 11,
     "metadata": {},
     "output_type": "execute_result"
    }
   ],
   "source": [
    "data.isnull().sum()"
   ]
  },
  {
   "cell_type": "code",
   "execution_count": 12,
   "metadata": {},
   "outputs": [
    {
     "data": {
      "text/plain": [
       "Date                188\n",
       "White               293\n",
       "Black               307\n",
       "Result                3\n",
       "WhiteElo            984\n",
       "BlackElo            992\n",
       "WhiteRatingDiff      73\n",
       "BlackRatingDiff      70\n",
       "Variant               2\n",
       "Opening            1027\n",
       "TimeControl           6\n",
       "Termination           3\n",
       "dtype: int64"
      ]
     },
     "execution_count": 12,
     "metadata": {},
     "output_type": "execute_result"
    }
   ],
   "source": [
    "# unique values\n",
    "data.nunique()\n"
   ]
  },
  {
   "cell_type": "code",
   "execution_count": 13,
   "metadata": {},
   "outputs": [],
   "source": [
    "data['TotalGames'] = data['White'] + data['Black']"
   ]
  },
  {
   "cell_type": "code",
   "execution_count": 14,
   "metadata": {},
   "outputs": [
    {
     "data": {
      "text/plain": [
       "1-0        4247\n",
       "0-1        3736\n",
       "1/2-1/2     703\n",
       "Name: Result, dtype: int64"
      ]
     },
     "execution_count": 14,
     "metadata": {},
     "output_type": "execute_result"
    }
   ],
   "source": [
    "data['Result'].value_counts()"
   ]
  },
  {
   "cell_type": "code",
   "execution_count": 15,
   "metadata": {},
   "outputs": [],
   "source": [
    "data['Result'].replace(['1-0', '0-1', '1/2-1/2'], ['White wins', 'Black wins', 'Draw'], inplace=True)"
   ]
  },
  {
   "cell_type": "code",
   "execution_count": 16,
   "metadata": {},
   "outputs": [],
   "source": [
    "#removing draw games\n",
    "data = data[data['Result'] != 'Draw']"
   ]
  },
  {
   "cell_type": "code",
   "execution_count": 17,
   "metadata": {},
   "outputs": [
    {
     "data": {
      "text/plain": [
       "<AxesSubplot:ylabel='Result'>"
      ]
     },
     "execution_count": 17,
     "metadata": {},
     "output_type": "execute_result"
    },
    {
     "data": {
      "image/png": "[encoded data removed]",
      "text/plain": [
       "<Figure size 432x432 with 1 Axes>"
      ]
     },
     "metadata": {},
     "output_type": "display_data"
    }
   ],
   "source": [
    "data['Result'].value_counts().plot(kind='pie', autopct='%1.1f%%', figsize=(6,6), colors=['#9765F4', '#f28342', '#0000ff'])"
   ]
  },
  {
   "cell_type": "code",
   "execution_count": 18,
   "metadata": {},
   "outputs": [],
   "source": [
    "#removing month and year from date\n",
    "data['Year'] = data['Date'].str.split('.').str[0]\n",
    "data['Month'] = data['Date'].str.split('.').str[1]"
   ]
  },
  {
   "cell_type": "code",
   "execution_count": 19,
   "metadata": {},
   "outputs": [],
   "source": [
    "# removing date column\n",
    "data.drop(['Date'], axis=1, inplace=True)"
   ]
  },
  {
   "cell_type": "code",
   "execution_count": 20,
   "metadata": {},
   "outputs": [
    {
     "data": {
      "text/plain": [
       "<AxesSubplot:>"
      ]
     },
     "execution_count": 20,
     "metadata": {},
     "output_type": "execute_result"
    },
    {
     "data": {
      "image/png": "[encoded data removed]",
      "text/plain": [
       "<Figure size 720x432 with 1 Axes>"
      ]
     },
     "metadata": {},
     "output_type": "display_data"
    }
   ],
   "source": [
    "# total number of games played by month\n",
    "data['Month'].value_counts().sort_index().plot(kind='barh', figsize=(10,6), color='#b4f03c')"
   ]
  },
  {
   "cell_type": "code",
   "execution_count": 21,
   "metadata": {},
   "outputs": [
    {
     "data": {
      "text/plain": [
       "<AxesSubplot:>"
      ]
     },
     "execution_count": 21,
     "metadata": {},
     "output_type": "execute_result"
    },
    {
     "data": {
      "image/png": "[encoded data removed]",
      "text/plain": [
       "<Figure size 720x432 with 1 Axes>"
      ]
     },
     "metadata": {},
     "output_type": "display_data"
    }
   ],
   "source": [
    "# total number of games played by year\n",
    "data['Year'].value_counts().sort_index().plot(kind='barh', figsize=(10,6), color='#80DEEA')"
   ]
  },
  {
   "cell_type": "code",
   "execution_count": 22,
   "metadata": {},
   "outputs": [
    {
     "data": {
      "text/plain": [
       "Normal          6808\n",
       "Time forfeit    1172\n",
       "Abandoned          3\n",
       "Name: Termination, dtype: int64"
      ]
     },
     "execution_count": 22,
     "metadata": {},
     "output_type": "execute_result"
    }
   ],
   "source": [
    "data['Termination'].value_counts()"
   ]
  },
  {
   "cell_type": "code",
   "execution_count": 23,
   "metadata": {},
   "outputs": [],
   "source": [
    "# remove abandoned games\n",
    "data = data[data['Termination'] != 'Abandoned']"
   ]
  },
  {
   "cell_type": "code",
   "execution_count": 24,
   "metadata": {},
   "outputs": [
    {
     "data": {
      "text/plain": [
       "60+0     7578\n",
       "180+0     162\n",
       "15+0       90\n",
       "180+2      86\n",
       "30+0       51\n",
       "300+0      13\n",
       "Name: TimeControl, dtype: int64"
      ]
     },
     "execution_count": 24,
     "metadata": {},
     "output_type": "execute_result"
    }
   ],
   "source": [
    "data['TimeControl'].value_counts()"
   ]
  },
  {
   "cell_type": "code",
   "execution_count": 25,
   "metadata": {},
   "outputs": [],
   "source": [
    "data['TimeControl'].replace(['15+0'], 'Rapid (15 min)', inplace=True)\n",
    "data['TimeControl'].replace(['30+0', '60+0'], 'Classical (60 min)', inplace=True)\n",
    "data['TimeControl'].replace(['180+0', '180+2', '300+0'], 'Long Classical (180 min)', inplace=True)"
   ]
  },
  {
   "cell_type": "code",
   "execution_count": 26,
   "metadata": {},
   "outputs": [],
   "source": [
    "data['WhiteElo'] = pd.to_numeric(data['WhiteElo'], errors='coerce')\n",
    "data['BlackElo'] = pd.to_numeric(data['BlackElo'], errors='coerce')"
   ]
  },
  {
   "cell_type": "code",
   "execution_count": 27,
   "metadata": {},
   "outputs": [],
   "source": [
    "# replace the range of white and black elo with a single value\n",
    "data['WhiteElo'].replace(range(900, 1200), 'Begineer', inplace=True)\n",
    "data['WhiteElo'].replace(range(1201, 1500), 'Ameture', inplace=True)\n",
    "data['WhiteElo'].replace(range(1501, 1800), 'Intermediate', inplace=True)\n",
    "data['WhiteElo'].replace(range(1801, 2200), 'Expert', inplace=True)\n",
    "data['WhiteElo'].replace(range(2201, 2600), 'Master', inplace=True)\n",
    "data['WhiteElo'].replace(range(2601, 2800), 'International Master', inplace=True)\n",
    "data['WhiteElo'].replace(range(2801, 3000), 'Grand Master', inplace=True)\n",
    "data['WhiteElo'].replace(range(3001, 3400), 'Super Grand Master', inplace=True)\n",
    "\n",
    "data['BlackElo'].replace(range(900, 1200), 'Begineer', inplace=True)\n",
    "data['BlackElo'].replace(range(1201, 1500), 'Ameture', inplace=True)\n",
    "data['BlackElo'].replace(range(1501, 1800), 'Intermediate', inplace=True)\n",
    "data['BlackElo'].replace(range(1801, 2200), 'Expert', inplace=True)\n",
    "data['BlackElo'].replace(range(2201, 2600), 'Master', inplace=True)\n",
    "data['BlackElo'].replace(range(2601, 2800), 'International Master', inplace=True)\n",
    "data['BlackElo'].replace(range(2801, 3000), 'Grand Master', inplace=True)\n",
    "data['BlackElo'].replace(range(3001, 3400), 'Super Grand Master', inplace=True)\n"
   ]
  },
  {
   "cell_type": "code",
   "execution_count": 28,
   "metadata": {},
   "outputs": [],
   "source": [
    "#  removing text after ':' in opening column\n",
    "data['Opening'].replace(regex=True, inplace=True, to_replace=r':.*', value='')"
   ]
  },
  {
   "cell_type": "code",
   "execution_count": 29,
   "metadata": {},
   "outputs": [
    {
     "data": {
      "text/plain": [
       "<AxesSubplot:>"
      ]
     },
     "execution_count": 29,
     "metadata": {},
     "output_type": "execute_result"
    },
    {
     "data": {
      "image/png": "[encoded data removed]",
      "text/plain": [
       "<Figure size 720x432 with 1 Axes>"
      ]
     },
     "metadata": {},
     "output_type": "display_data"
    }
   ],
   "source": [
    "# top 10 openings\n",
    "data['Opening'].value_counts().head(10).plot(kind='barh', figsize=(10,6), color='#1DE9B6')"
   ]
  },
  {
   "cell_type": "code",
   "execution_count": 30,
   "metadata": {},
   "outputs": [],
   "source": [
    "data.drop(['TotalGames'] , axis=1, inplace=True)"
   ]
  },
  {
   "cell_type": "code",
   "execution_count": 31,
   "metadata": {},
   "outputs": [],
   "source": [
    "data['Result'] = data['Result'].replace(['White wins', 'Black wins'], ['1', '0'])"
   ]
  },
  {
   "cell_type": "code",
   "execution_count": 32,
   "metadata": {},
   "outputs": [
    {
     "data": {
      "text/html": [
       "<div>\n",
       "<style scoped>\n",
       "    .dataframe tbody tr th:only-of-type {\n",
       "        vertical-align: middle;\n",
       "    }\n",
       "\n",
       "    .dataframe tbody tr th {\n",
       "        vertical-align: top;\n",
       "    }\n",
       "\n",
       "    .dataframe thead th {\n",
       "        text-align: right;\n",
       "    }\n",
       "</style>\n",
       "<table border=\"1\" class=\"dataframe\">\n",
       "  <thead>\n",
       "    <tr style=\"text-align: right;\">\n",
       "      <th></th>\n",
       "      <th>White</th>\n",
       "      <th>Black</th>\n",
       "      <th>Result</th>\n",
       "      <th>WhiteElo</th>\n",
       "      <th>BlackElo</th>\n",
       "      <th>WhiteRatingDiff</th>\n",
       "      <th>BlackRatingDiff</th>\n",
       "      <th>Variant</th>\n",
       "      <th>Opening</th>\n",
       "      <th>TimeControl</th>\n",
       "      <th>Termination</th>\n",
       "      <th>Year</th>\n",
       "      <th>Month</th>\n",
       "    </tr>\n",
       "  </thead>\n",
       "  <tbody>\n",
       "    <tr>\n",
       "      <th>0</th>\n",
       "      <td>DrNykterstein</td>\n",
       "      <td>mutdpro</td>\n",
       "      <td>1</td>\n",
       "      <td>Super Grand Master</td>\n",
       "      <td>Grand Master</td>\n",
       "      <td>4</td>\n",
       "      <td>-2</td>\n",
       "      <td>Standard</td>\n",
       "      <td>Sicilian Defense</td>\n",
       "      <td>Long Classical (180 min)</td>\n",
       "      <td>Normal</td>\n",
       "      <td>2021</td>\n",
       "      <td>07</td>\n",
       "    </tr>\n",
       "    <tr>\n",
       "      <th>1</th>\n",
       "      <td>sumsar42</td>\n",
       "      <td>DrNykterstein</td>\n",
       "      <td>1</td>\n",
       "      <td>Grand Master</td>\n",
       "      <td>Super Grand Master</td>\n",
       "      <td>10</td>\n",
       "      <td>-20</td>\n",
       "      <td>Standard</td>\n",
       "      <td>King's Indian Attack</td>\n",
       "      <td>Long Classical (180 min)</td>\n",
       "      <td>Normal</td>\n",
       "      <td>2021</td>\n",
       "      <td>07</td>\n",
       "    </tr>\n",
       "    <tr>\n",
       "      <th>2</th>\n",
       "      <td>DrNykterstein</td>\n",
       "      <td>Jasugi99</td>\n",
       "      <td>1</td>\n",
       "      <td>Super Grand Master</td>\n",
       "      <td>International Master</td>\n",
       "      <td>2</td>\n",
       "      <td>0</td>\n",
       "      <td>Standard</td>\n",
       "      <td>St. George Defense</td>\n",
       "      <td>Long Classical (180 min)</td>\n",
       "      <td>Normal</td>\n",
       "      <td>2021</td>\n",
       "      <td>07</td>\n",
       "    </tr>\n",
       "    <tr>\n",
       "      <th>3</th>\n",
       "      <td>Chesstoday</td>\n",
       "      <td>DrNykterstein</td>\n",
       "      <td>1</td>\n",
       "      <td>Grand Master</td>\n",
       "      <td>Super Grand Master</td>\n",
       "      <td>10</td>\n",
       "      <td>-20</td>\n",
       "      <td>Standard</td>\n",
       "      <td>Scotch Game</td>\n",
       "      <td>Long Classical (180 min)</td>\n",
       "      <td>Normal</td>\n",
       "      <td>2021</td>\n",
       "      <td>07</td>\n",
       "    </tr>\n",
       "    <tr>\n",
       "      <th>4</th>\n",
       "      <td>DrNykterstein</td>\n",
       "      <td>Alexsur81</td>\n",
       "      <td>1</td>\n",
       "      <td>Super Grand Master</td>\n",
       "      <td>Grand Master</td>\n",
       "      <td>3</td>\n",
       "      <td>-2</td>\n",
       "      <td>Standard</td>\n",
       "      <td>King's Indian Attack</td>\n",
       "      <td>Long Classical (180 min)</td>\n",
       "      <td>Normal</td>\n",
       "      <td>2021</td>\n",
       "      <td>07</td>\n",
       "    </tr>\n",
       "  </tbody>\n",
       "</table>\n",
       "</div>"
      ],
      "text/plain": [
       "           White          Black Result            WhiteElo  \\\n",
       "0  DrNykterstein        mutdpro      1  Super Grand Master   \n",
       "1       sumsar42  DrNykterstein      1        Grand Master   \n",
       "2  DrNykterstein       Jasugi99      1  Super Grand Master   \n",
       "3     Chesstoday  DrNykterstein      1        Grand Master   \n",
       "4  DrNykterstein      Alexsur81      1  Super Grand Master   \n",
       "\n",
       "               BlackElo  WhiteRatingDiff  BlackRatingDiff   Variant  \\\n",
       "0          Grand Master                4               -2  Standard   \n",
       "1    Super Grand Master               10              -20  Standard   \n",
       "2  International Master                2                0  Standard   \n",
       "3    Super Grand Master               10              -20  Standard   \n",
       "4          Grand Master                3               -2  Standard   \n",
       "\n",
       "                Opening               TimeControl Termination  Year Month  \n",
       "0      Sicilian Defense  Long Classical (180 min)      Normal  2021    07  \n",
       "1  King's Indian Attack  Long Classical (180 min)      Normal  2021    07  \n",
       "2    St. George Defense  Long Classical (180 min)      Normal  2021    07  \n",
       "3           Scotch Game  Long Classical (180 min)      Normal  2021    07  \n",
       "4  King's Indian Attack  Long Classical (180 min)      Normal  2021    07  "
      ]
     },
     "execution_count": 32,
     "metadata": {},
     "output_type": "execute_result"
    }
   ],
   "source": [
    "data.head(5)"
   ]
  },
  {
   "cell_type": "code",
   "execution_count": 33,
   "metadata": {},
   "outputs": [],
   "source": [
    "# Distributing in categorical variables and numeric variables\n",
    "cat_vars = data.select_dtypes(include=['object']).columns\n",
    "num_vars = data.select_dtypes(exclude=['object']).columns\n"
   ]
  },
  {
   "cell_type": "code",
   "execution_count": 34,
   "metadata": {},
   "outputs": [
    {
     "data": {
      "text/plain": [
       "Index(['White', 'Black', 'Result', 'WhiteElo', 'BlackElo', 'Variant',\n",
       "       'Opening', 'TimeControl', 'Termination', 'Year', 'Month'],\n",
       "      dtype='object')"
      ]
     },
     "execution_count": 34,
     "metadata": {},
     "output_type": "execute_result"
    }
   ],
   "source": [
    "cat_vars"
   ]
  },
  {
   "cell_type": "code",
   "execution_count": 35,
   "metadata": {},
   "outputs": [
    {
     "data": {
      "text/plain": [
       "Index(['WhiteRatingDiff', 'BlackRatingDiff'], dtype='object')"
      ]
     },
     "execution_count": 35,
     "metadata": {},
     "output_type": "execute_result"
    }
   ],
   "source": [
    "num_vars"
   ]
  },
  {
   "cell_type": "code",
   "execution_count": null,
   "metadata": {},
   "outputs": [],
   "source": []
  }
 ],
 "metadata": {
  "interpreter": {
   "hash": "fd97c83a05a6158796df7c815d88d794bb167b78dbdec74c9c054f7223ee838e"
  },
  "kernelspec": {
   "display_name": "Python 3.9.12 ('ml')",
   "language": "python",
   "name": "python3"
  },
  "language_info": {
   "codemirror_mode": {
    "name": "ipython",
    "version": 3
   },
   "file_extension": ".py",
   "mimetype": "text/x-python",
   "name": "python",
   "nbconvert_exporter": "python",
   "pygments_lexer": "ipython3",
   "version": "3.9.12"
  },
  "orig_nbformat": 4
 },
 "nbformat": 4,
 "nbformat_minor": 2
}
