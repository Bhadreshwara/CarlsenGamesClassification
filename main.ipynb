{
 "cells": [
  {
   "cell_type": "code",
   "execution_count": 1,
   "metadata": {},
   "outputs": [],
   "source": [
    "import pandas as pd\n",
    "import numpy as np\n",
    "import matplotlib.pyplot as plt\n",
    "import seaborn as sns\n",
    "import warnings\n",
    "warnings.filterwarnings('ignore')\n",
    "import datetime as dt\n"
   ]
  },
  {
   "cell_type": "code",
   "execution_count": 2,
   "metadata": {},
   "outputs": [],
   "source": [
    "data = pd.read_csv('DrNykterstein.csv')"
   ]
  },
  {
   "cell_type": "code",
   "execution_count": 3,
   "metadata": {},
   "outputs": [
    {
     "data": {
      "text/plain": [
       "(8686, 634)"
      ]
     },
     "execution_count": 3,
     "metadata": {},
     "output_type": "execute_result"
    }
   ],
   "source": [
    "data.shape"
   ]
  },
  {
   "cell_type": "code",
   "execution_count": 4,
   "metadata": {},
   "outputs": [],
   "source": [
    "data = data[['Date', 'White', 'Black', 'Result', 'WhiteElo', 'BlackElo', \n",
    "             'WhiteRatingDiff', 'BlackRatingDiff', 'Variant', 'Opening', 'TimeControl', 'Termination']]\n",
    "\n"
   ]
  },
  {
   "cell_type": "code",
   "execution_count": 5,
   "metadata": {},
   "outputs": [
    {
     "data": {
      "text/html": [
       "<div>\n",
       "<style scoped>\n",
       "    .dataframe tbody tr th:only-of-type {\n",
       "        vertical-align: middle;\n",
       "    }\n",
       "\n",
       "    .dataframe tbody tr th {\n",
       "        vertical-align: top;\n",
       "    }\n",
       "\n",
       "    .dataframe thead th {\n",
       "        text-align: right;\n",
       "    }\n",
       "</style>\n",
       "<table border=\"1\" class=\"dataframe\">\n",
       "  <thead>\n",
       "    <tr style=\"text-align: right;\">\n",
       "      <th></th>\n",
       "      <th>Date</th>\n",
       "      <th>White</th>\n",
       "      <th>Black</th>\n",
       "      <th>Result</th>\n",
       "      <th>WhiteElo</th>\n",
       "      <th>BlackElo</th>\n",
       "      <th>WhiteRatingDiff</th>\n",
       "      <th>BlackRatingDiff</th>\n",
       "      <th>Variant</th>\n",
       "      <th>Opening</th>\n",
       "      <th>TimeControl</th>\n",
       "      <th>Termination</th>\n",
       "    </tr>\n",
       "  </thead>\n",
       "  <tbody>\n",
       "    <tr>\n",
       "      <th>0</th>\n",
       "      <td>2021.07.03</td>\n",
       "      <td>DrNykterstein</td>\n",
       "      <td>mutdpro</td>\n",
       "      <td>1-0</td>\n",
       "      <td>3098</td>\n",
       "      <td>2801</td>\n",
       "      <td>4</td>\n",
       "      <td>-2</td>\n",
       "      <td>Standard</td>\n",
       "      <td>Sicilian Defense: Accelerated Dragon  Modern V...</td>\n",
       "      <td>180+0</td>\n",
       "      <td>Normal</td>\n",
       "    </tr>\n",
       "    <tr>\n",
       "      <th>1</th>\n",
       "      <td>2021.07.03</td>\n",
       "      <td>sumsar42</td>\n",
       "      <td>DrNykterstein</td>\n",
       "      <td>1-0</td>\n",
       "      <td>2820</td>\n",
       "      <td>3118</td>\n",
       "      <td>10</td>\n",
       "      <td>-20</td>\n",
       "      <td>Standard</td>\n",
       "      <td>King's Indian Attack: Spassky Variation</td>\n",
       "      <td>180+0</td>\n",
       "      <td>Normal</td>\n",
       "    </tr>\n",
       "    <tr>\n",
       "      <th>2</th>\n",
       "      <td>2021.07.03</td>\n",
       "      <td>DrNykterstein</td>\n",
       "      <td>Jasugi99</td>\n",
       "      <td>1-0</td>\n",
       "      <td>3116</td>\n",
       "      <td>2679</td>\n",
       "      <td>2</td>\n",
       "      <td>0</td>\n",
       "      <td>Standard</td>\n",
       "      <td>St. George Defense: Polish Variation</td>\n",
       "      <td>180+0</td>\n",
       "      <td>Normal</td>\n",
       "    </tr>\n",
       "    <tr>\n",
       "      <th>3</th>\n",
       "      <td>2021.07.03</td>\n",
       "      <td>Chesstoday</td>\n",
       "      <td>DrNykterstein</td>\n",
       "      <td>1-0</td>\n",
       "      <td>2825</td>\n",
       "      <td>3136</td>\n",
       "      <td>10</td>\n",
       "      <td>-20</td>\n",
       "      <td>Standard</td>\n",
       "      <td>Scotch Game: Classical Variation</td>\n",
       "      <td>180+0</td>\n",
       "      <td>Normal</td>\n",
       "    </tr>\n",
       "    <tr>\n",
       "      <th>4</th>\n",
       "      <td>2021.07.03</td>\n",
       "      <td>DrNykterstein</td>\n",
       "      <td>Alexsur81</td>\n",
       "      <td>1-0</td>\n",
       "      <td>3133</td>\n",
       "      <td>2810</td>\n",
       "      <td>3</td>\n",
       "      <td>-2</td>\n",
       "      <td>Standard</td>\n",
       "      <td>King's Indian Attack</td>\n",
       "      <td>180+0</td>\n",
       "      <td>Normal</td>\n",
       "    </tr>\n",
       "  </tbody>\n",
       "</table>\n",
       "</div>"
      ],
      "text/plain": [
       "         Date          White          Black Result  WhiteElo  BlackElo  \\\n",
       "0  2021.07.03  DrNykterstein        mutdpro    1-0      3098      2801   \n",
       "1  2021.07.03       sumsar42  DrNykterstein    1-0      2820      3118   \n",
       "2  2021.07.03  DrNykterstein       Jasugi99    1-0      3116      2679   \n",
       "3  2021.07.03     Chesstoday  DrNykterstein    1-0      2825      3136   \n",
       "4  2021.07.03  DrNykterstein      Alexsur81    1-0      3133      2810   \n",
       "\n",
       "   WhiteRatingDiff  BlackRatingDiff   Variant  \\\n",
       "0                4               -2  Standard   \n",
       "1               10              -20  Standard   \n",
       "2                2                0  Standard   \n",
       "3               10              -20  Standard   \n",
       "4                3               -2  Standard   \n",
       "\n",
       "                                             Opening TimeControl Termination  \n",
       "0  Sicilian Defense: Accelerated Dragon  Modern V...       180+0      Normal  \n",
       "1            King's Indian Attack: Spassky Variation       180+0      Normal  \n",
       "2               St. George Defense: Polish Variation       180+0      Normal  \n",
       "3                   Scotch Game: Classical Variation       180+0      Normal  \n",
       "4                               King's Indian Attack       180+0      Normal  "
      ]
     },
     "execution_count": 5,
     "metadata": {},
     "output_type": "execute_result"
    }
   ],
   "source": [
    "data.head()"
   ]
  },
  {
   "cell_type": "code",
   "execution_count": 6,
   "metadata": {},
   "outputs": [
    {
     "name": "stdout",
     "output_type": "stream",
     "text": [
      "<class 'pandas.core.frame.DataFrame'>\n",
      "RangeIndex: 8686 entries, 0 to 8685\n",
      "Data columns (total 12 columns):\n",
      " #   Column           Non-Null Count  Dtype \n",
      "---  ------           --------------  ----- \n",
      " 0   Date             8686 non-null   object\n",
      " 1   White            8686 non-null   object\n",
      " 2   Black            8686 non-null   object\n",
      " 3   Result           8686 non-null   object\n",
      " 4   WhiteElo         8686 non-null   int64 \n",
      " 5   BlackElo         8686 non-null   int64 \n",
      " 6   WhiteRatingDiff  8686 non-null   int64 \n",
      " 7   BlackRatingDiff  8686 non-null   int64 \n",
      " 8   Variant          8686 non-null   object\n",
      " 9   Opening          8686 non-null   object\n",
      " 10  TimeControl      8686 non-null   object\n",
      " 11  Termination      8686 non-null   object\n",
      "dtypes: int64(4), object(8)\n",
      "memory usage: 814.4+ KB\n"
     ]
    }
   ],
   "source": [
    "data.info()"
   ]
  },
  {
   "cell_type": "code",
   "execution_count": 7,
   "metadata": {},
   "outputs": [
    {
     "data": {
      "text/plain": [
       "(8686, 12)"
      ]
     },
     "execution_count": 7,
     "metadata": {},
     "output_type": "execute_result"
    }
   ],
   "source": [
    "data.shape"
   ]
  },
  {
   "cell_type": "code",
   "execution_count": 8,
   "metadata": {},
   "outputs": [
    {
     "data": {
      "text/plain": [
       "Date               0\n",
       "White              0\n",
       "Black              0\n",
       "Result             0\n",
       "WhiteElo           0\n",
       "BlackElo           0\n",
       "WhiteRatingDiff    0\n",
       "BlackRatingDiff    0\n",
       "Variant            0\n",
       "Opening            0\n",
       "TimeControl        0\n",
       "Termination        0\n",
       "dtype: int64"
      ]
     },
     "execution_count": 8,
     "metadata": {},
     "output_type": "execute_result"
    }
   ],
   "source": [
    "data.isna().sum()"
   ]
  },
  {
   "cell_type": "code",
   "execution_count": 9,
   "metadata": {},
   "outputs": [
    {
     "data": {
      "text/plain": [
       "Date               0\n",
       "White              0\n",
       "Black              0\n",
       "Result             0\n",
       "WhiteElo           0\n",
       "BlackElo           0\n",
       "WhiteRatingDiff    0\n",
       "BlackRatingDiff    0\n",
       "Variant            0\n",
       "Opening            0\n",
       "TimeControl        0\n",
       "Termination        0\n",
       "dtype: int64"
      ]
     },
     "execution_count": 9,
     "metadata": {},
     "output_type": "execute_result"
    }
   ],
   "source": [
    "data.isnull().sum()"
   ]
  },
  {
   "cell_type": "code",
   "execution_count": 10,
   "metadata": {},
   "outputs": [
    {
     "data": {
      "text/plain": [
       "Date                188\n",
       "White               293\n",
       "Black               307\n",
       "Result                3\n",
       "WhiteElo            984\n",
       "BlackElo            992\n",
       "WhiteRatingDiff      73\n",
       "BlackRatingDiff      70\n",
       "Variant               2\n",
       "Opening            1027\n",
       "TimeControl           6\n",
       "Termination           3\n",
       "dtype: int64"
      ]
     },
     "execution_count": 10,
     "metadata": {},
     "output_type": "execute_result"
    }
   ],
   "source": [
    "# unique values\n",
    "data.nunique()\n"
   ]
  },
  {
   "cell_type": "code",
   "execution_count": 11,
   "metadata": {},
   "outputs": [],
   "source": [
    "data['TotalGames'] = data['White'] + data['Black']"
   ]
  },
  {
   "cell_type": "code",
   "execution_count": 12,
   "metadata": {},
   "outputs": [
    {
     "data": {
      "text/plain": [
       "1-0        4247\n",
       "0-1        3736\n",
       "1/2-1/2     703\n",
       "Name: Result, dtype: int64"
      ]
     },
     "execution_count": 12,
     "metadata": {},
     "output_type": "execute_result"
    }
   ],
   "source": [
    "data['Result'].value_counts()"
   ]
  },
  {
   "cell_type": "code",
   "execution_count": 13,
   "metadata": {},
   "outputs": [],
   "source": [
    "data['Result'].replace(['1-0', '0-1', '1/2-1/2'], ['White wins', 'Black wins', 'Draw'], inplace=True)"
   ]
  },
  {
   "cell_type": "code",
   "execution_count": 14,
   "metadata": {},
   "outputs": [],
   "source": [
    "#removing draw games\n",
    "data = data[data['Result'] != 'Draw']"
   ]
  },
  {
   "cell_type": "code",
   "execution_count": 15,
   "metadata": {},
   "outputs": [
    {
     "data": {
      "text/plain": [
       "<AxesSubplot:ylabel='Result'>"
      ]
     },
     "execution_count": 15,
     "metadata": {},
     "output_type": "execute_result"
    },
    {
     "data": {
      "image/png": "[encoded data removed]",
      "text/plain": [
       "<Figure size 432x432 with 1 Axes>"
      ]
     },
     "metadata": {},
     "output_type": "display_data"
    }
   ],
   "source": [
    "data['Result'].value_counts().plot(kind='pie', autopct='%1.1f%%', figsize=(6,6), colors=['#9765F4', '#f28342', '#0000ff'])"
   ]
  },
  {
   "cell_type": "code",
   "execution_count": 16,
   "metadata": {},
   "outputs": [],
   "source": [
    "#removing month and year from date\n",
    "data['Year'] = data['Date'].str.split('.').str[0]\n",
    "data['Month'] = data['Date'].str.split('.').str[1]"
   ]
  },
  {
   "cell_type": "code",
   "execution_count": 17,
   "metadata": {},
   "outputs": [],
   "source": [
    "# removing date column\n",
    "data.drop(['Date'], axis=1, inplace=True)"
   ]
  },
  {
   "cell_type": "code",
   "execution_count": 18,
   "metadata": {},
   "outputs": [
    {
     "data": {
      "text/plain": [
       "<AxesSubplot:>"
      ]
     },
     "execution_count": 18,
     "metadata": {},
     "output_type": "execute_result"
    },
    {
     "data": {
      "image/png": "[encoded data removed]",
      "text/plain": [
       "<Figure size 720x432 with 1 Axes>"
      ]
     },
     "metadata": {},
     "output_type": "display_data"
    }
   ],
   "source": [
    "# total number of games played by month\n",
    "data['Month'].value_counts().sort_index().plot(kind='barh', figsize=(10,6), color='#b4f03c')"
   ]
  },
  {
   "cell_type": "code",
   "execution_count": 19,
   "metadata": {},
   "outputs": [
    {
     "data": {
      "text/plain": [
       "<AxesSubplot:>"
      ]
     },
     "execution_count": 19,
     "metadata": {},
     "output_type": "execute_result"
    },
    {
     "data": {
      "image/png": "[encoded data removed]",
      "text/plain": [
       "<Figure size 720x432 with 1 Axes>"
      ]
     },
     "metadata": {},
     "output_type": "display_data"
    }
   ],
   "source": [
    "# total number of games played by year\n",
    "data['Year'].value_counts().sort_index().plot(kind='barh', figsize=(10,6), color='#80DEEA')"
   ]
  },
  {
   "cell_type": "code",
   "execution_count": 20,
   "metadata": {},
   "outputs": [
    {
     "data": {
      "text/plain": [
       "Normal          6808\n",
       "Time forfeit    1172\n",
       "Abandoned          3\n",
       "Name: Termination, dtype: int64"
      ]
     },
     "execution_count": 20,
     "metadata": {},
     "output_type": "execute_result"
    }
   ],
   "source": [
    "data['Termination'].value_counts()"
   ]
  },
  {
   "cell_type": "code",
   "execution_count": 21,
   "metadata": {},
   "outputs": [],
   "source": [
    "# remove abandoned games\n",
    "data = data[data['Termination'] != 'Abandoned']"
   ]
  },
  {
   "cell_type": "code",
   "execution_count": 22,
   "metadata": {},
   "outputs": [
    {
     "data": {
      "text/plain": [
       "60+0     7578\n",
       "180+0     162\n",
       "15+0       90\n",
       "180+2      86\n",
       "30+0       51\n",
       "300+0      13\n",
       "Name: TimeControl, dtype: int64"
      ]
     },
     "execution_count": 22,
     "metadata": {},
     "output_type": "execute_result"
    }
   ],
   "source": [
    "data['TimeControl'].value_counts()"
   ]
  },
  {
   "cell_type": "code",
   "execution_count": 23,
   "metadata": {},
   "outputs": [],
   "source": [
    "data['TimeControl'].replace(['15+0'], 'Rapid (15 min)', inplace=True)\n",
    "data['TimeControl'].replace(['30+0', '60+0'], 'Classical (60 min)', inplace=True)\n",
    "data['TimeControl'].replace(['180+0', '180+2', '300+0'], 'Long Classical (180 min)', inplace=True)"
   ]
  },
  {
   "cell_type": "code",
   "execution_count": 24,
   "metadata": {},
   "outputs": [],
   "source": [
    "data['WhiteElo'] = pd.to_numeric(data['WhiteElo'], errors='coerce')\n",
    "data['BlackElo'] = pd.to_numeric(data['BlackElo'], errors='coerce')"
   ]
  },
  {
   "cell_type": "code",
   "execution_count": 25,
   "metadata": {},
   "outputs": [],
   "source": [
    "# replace the range of white and black elo with a single value\n",
    "data['WhiteElo'].replace(range(900, 1200), 'Begineer', inplace=True)\n",
    "data['WhiteElo'].replace(range(1201, 1500), 'Ameture', inplace=True)\n",
    "data['WhiteElo'].replace(range(1501, 1800), 'Intermediate', inplace=True)\n",
    "data['WhiteElo'].replace(range(1801, 2200), 'Expert', inplace=True)\n",
    "data['WhiteElo'].replace(range(2201, 2600), 'Master', inplace=True)\n",
    "data['WhiteElo'].replace(range(2601, 2800), 'International Master', inplace=True)\n",
    "data['WhiteElo'].replace(range(2801, 3000), 'Grand Master', inplace=True)\n",
    "data['WhiteElo'].replace(range(3001, 3400), 'Super Grand Master', inplace=True)\n",
    "\n",
    "data['BlackElo'].replace(range(900, 1200), 'Begineer', inplace=True)\n",
    "data['BlackElo'].replace(range(1201, 1500), 'Ameture', inplace=True)\n",
    "data['BlackElo'].replace(range(1501, 1800), 'Intermediate', inplace=True)\n",
    "data['BlackElo'].replace(range(1801, 2200), 'Expert', inplace=True)\n",
    "data['BlackElo'].replace(range(2201, 2600), 'Master', inplace=True)\n",
    "data['BlackElo'].replace(range(2601, 2800), 'International Master', inplace=True)\n",
    "data['BlackElo'].replace(range(2801, 3000), 'Grand Master', inplace=True)\n",
    "data['BlackElo'].replace(range(3001, 3400), 'Super Grand Master', inplace=True)\n"
   ]
  },
  {
   "cell_type": "code",
   "execution_count": 26,
   "metadata": {},
   "outputs": [],
   "source": [
    "#  removing text after ':' in opening column\n",
    "data['Opening'].replace(regex=True, inplace=True, to_replace=r':.*', value='')"
   ]
  },
  {
   "cell_type": "code",
   "execution_count": 27,
   "metadata": {},
   "outputs": [
    {
     "data": {
      "text/plain": [
       "<AxesSubplot:>"
      ]
     },
     "execution_count": 27,
     "metadata": {},
     "output_type": "execute_result"
    },
    {
     "data": {
      "image/png": "[encoded data removed]",
      "text/plain": [
       "<Figure size 720x432 with 1 Axes>"
      ]
     },
     "metadata": {},
     "output_type": "display_data"
    }
   ],
   "source": [
    "# top 10 openings\n",
    "data['Opening'].value_counts().head(10).plot(kind='barh', figsize=(10,6), color='#1DE9B6')"
   ]
  },
  {
   "cell_type": "code",
   "execution_count": 28,
   "metadata": {},
   "outputs": [],
   "source": [
    "data.drop(['TotalGames'] , axis=1, inplace=True)"
   ]
  },
  {
   "cell_type": "code",
   "execution_count": 29,
   "metadata": {},
   "outputs": [],
   "source": [
    "data['Result'] = data['Result'].replace(['White wins', 'Black wins'], ['1', '0'])"
   ]
  },
  {
   "cell_type": "code",
   "execution_count": 30,
   "metadata": {},
   "outputs": [
    {
     "data": {
      "text/html": [
       "<div>\n",
       "<style scoped>\n",
       "    .dataframe tbody tr th:only-of-type {\n",
       "        vertical-align: middle;\n",
       "    }\n",
       "\n",
       "    .dataframe tbody tr th {\n",
       "        vertical-align: top;\n",
       "    }\n",
       "\n",
       "    .dataframe thead th {\n",
       "        text-align: right;\n",
       "    }\n",
       "</style>\n",
       "<table border=\"1\" class=\"dataframe\">\n",
       "  <thead>\n",
       "    <tr style=\"text-align: right;\">\n",
       "      <th></th>\n",
       "      <th>White</th>\n",
       "      <th>Black</th>\n",
       "      <th>Result</th>\n",
       "      <th>WhiteElo</th>\n",
       "      <th>BlackElo</th>\n",
       "      <th>WhiteRatingDiff</th>\n",
       "      <th>BlackRatingDiff</th>\n",
       "      <th>Variant</th>\n",
       "      <th>Opening</th>\n",
       "      <th>TimeControl</th>\n",
       "      <th>Termination</th>\n",
       "      <th>Year</th>\n",
       "      <th>Month</th>\n",
       "    </tr>\n",
       "  </thead>\n",
       "  <tbody>\n",
       "    <tr>\n",
       "      <th>0</th>\n",
       "      <td>DrNykterstein</td>\n",
       "      <td>mutdpro</td>\n",
       "      <td>1</td>\n",
       "      <td>Super Grand Master</td>\n",
       "      <td>Grand Master</td>\n",
       "      <td>4</td>\n",
       "      <td>-2</td>\n",
       "      <td>Standard</td>\n",
       "      <td>Sicilian Defense</td>\n",
       "      <td>Long Classical (180 min)</td>\n",
       "      <td>Normal</td>\n",
       "      <td>2021</td>\n",
       "      <td>07</td>\n",
       "    </tr>\n",
       "    <tr>\n",
       "      <th>1</th>\n",
       "      <td>sumsar42</td>\n",
       "      <td>DrNykterstein</td>\n",
       "      <td>1</td>\n",
       "      <td>Grand Master</td>\n",
       "      <td>Super Grand Master</td>\n",
       "      <td>10</td>\n",
       "      <td>-20</td>\n",
       "      <td>Standard</td>\n",
       "      <td>King's Indian Attack</td>\n",
       "      <td>Long Classical (180 min)</td>\n",
       "      <td>Normal</td>\n",
       "      <td>2021</td>\n",
       "      <td>07</td>\n",
       "    </tr>\n",
       "    <tr>\n",
       "      <th>2</th>\n",
       "      <td>DrNykterstein</td>\n",
       "      <td>Jasugi99</td>\n",
       "      <td>1</td>\n",
       "      <td>Super Grand Master</td>\n",
       "      <td>International Master</td>\n",
       "      <td>2</td>\n",
       "      <td>0</td>\n",
       "      <td>Standard</td>\n",
       "      <td>St. George Defense</td>\n",
       "      <td>Long Classical (180 min)</td>\n",
       "      <td>Normal</td>\n",
       "      <td>2021</td>\n",
       "      <td>07</td>\n",
       "    </tr>\n",
       "    <tr>\n",
       "      <th>3</th>\n",
       "      <td>Chesstoday</td>\n",
       "      <td>DrNykterstein</td>\n",
       "      <td>1</td>\n",
       "      <td>Grand Master</td>\n",
       "      <td>Super Grand Master</td>\n",
       "      <td>10</td>\n",
       "      <td>-20</td>\n",
       "      <td>Standard</td>\n",
       "      <td>Scotch Game</td>\n",
       "      <td>Long Classical (180 min)</td>\n",
       "      <td>Normal</td>\n",
       "      <td>2021</td>\n",
       "      <td>07</td>\n",
       "    </tr>\n",
       "    <tr>\n",
       "      <th>4</th>\n",
       "      <td>DrNykterstein</td>\n",
       "      <td>Alexsur81</td>\n",
       "      <td>1</td>\n",
       "      <td>Super Grand Master</td>\n",
       "      <td>Grand Master</td>\n",
       "      <td>3</td>\n",
       "      <td>-2</td>\n",
       "      <td>Standard</td>\n",
       "      <td>King's Indian Attack</td>\n",
       "      <td>Long Classical (180 min)</td>\n",
       "      <td>Normal</td>\n",
       "      <td>2021</td>\n",
       "      <td>07</td>\n",
       "    </tr>\n",
       "  </tbody>\n",
       "</table>\n",
       "</div>"
      ],
      "text/plain": [
       "           White          Black Result            WhiteElo  \\\n",
       "0  DrNykterstein        mutdpro      1  Super Grand Master   \n",
       "1       sumsar42  DrNykterstein      1        Grand Master   \n",
       "2  DrNykterstein       Jasugi99      1  Super Grand Master   \n",
       "3     Chesstoday  DrNykterstein      1        Grand Master   \n",
       "4  DrNykterstein      Alexsur81      1  Super Grand Master   \n",
       "\n",
       "               BlackElo  WhiteRatingDiff  BlackRatingDiff   Variant  \\\n",
       "0          Grand Master                4               -2  Standard   \n",
       "1    Super Grand Master               10              -20  Standard   \n",
       "2  International Master                2                0  Standard   \n",
       "3    Super Grand Master               10              -20  Standard   \n",
       "4          Grand Master                3               -2  Standard   \n",
       "\n",
       "                Opening               TimeControl Termination  Year Month  \n",
       "0      Sicilian Defense  Long Classical (180 min)      Normal  2021    07  \n",
       "1  King's Indian Attack  Long Classical (180 min)      Normal  2021    07  \n",
       "2    St. George Defense  Long Classical (180 min)      Normal  2021    07  \n",
       "3           Scotch Game  Long Classical (180 min)      Normal  2021    07  \n",
       "4  King's Indian Attack  Long Classical (180 min)      Normal  2021    07  "
      ]
     },
     "execution_count": 30,
     "metadata": {},
     "output_type": "execute_result"
    }
   ],
   "source": [
    "data.head(5)"
   ]
  },
  {
   "cell_type": "code",
   "execution_count": 31,
   "metadata": {},
   "outputs": [],
   "source": [
    "# Extract the DrNykterstein info from white and black columns\n",
    "carlsen = data['White'].astype(str).str.split(' ').str[0]"
   ]
  },
  {
   "cell_type": "code",
   "execution_count": 32,
   "metadata": {},
   "outputs": [
    {
     "data": {
      "text/html": [
       "<div>\n",
       "<style scoped>\n",
       "    .dataframe tbody tr th:only-of-type {\n",
       "        vertical-align: middle;\n",
       "    }\n",
       "\n",
       "    .dataframe tbody tr th {\n",
       "        vertical-align: top;\n",
       "    }\n",
       "\n",
       "    .dataframe thead th {\n",
       "        text-align: right;\n",
       "    }\n",
       "</style>\n",
       "<table border=\"1\" class=\"dataframe\">\n",
       "  <thead>\n",
       "    <tr style=\"text-align: right;\">\n",
       "      <th></th>\n",
       "      <th>White</th>\n",
       "      <th>Black</th>\n",
       "      <th>Result</th>\n",
       "      <th>WhiteElo</th>\n",
       "      <th>BlackElo</th>\n",
       "      <th>WhiteRatingDiff</th>\n",
       "      <th>BlackRatingDiff</th>\n",
       "      <th>Variant</th>\n",
       "      <th>Opening</th>\n",
       "      <th>TimeControl</th>\n",
       "      <th>Termination</th>\n",
       "      <th>Year</th>\n",
       "      <th>Month</th>\n",
       "    </tr>\n",
       "  </thead>\n",
       "  <tbody>\n",
       "    <tr>\n",
       "      <th>0</th>\n",
       "      <td>DrNykterstein</td>\n",
       "      <td>mutdpro</td>\n",
       "      <td>1</td>\n",
       "      <td>Super Grand Master</td>\n",
       "      <td>Grand Master</td>\n",
       "      <td>4</td>\n",
       "      <td>-2</td>\n",
       "      <td>Standard</td>\n",
       "      <td>Sicilian Defense</td>\n",
       "      <td>Long Classical (180 min)</td>\n",
       "      <td>Normal</td>\n",
       "      <td>2021</td>\n",
       "      <td>07</td>\n",
       "    </tr>\n",
       "    <tr>\n",
       "      <th>1</th>\n",
       "      <td>sumsar42</td>\n",
       "      <td>DrNykterstein</td>\n",
       "      <td>1</td>\n",
       "      <td>Grand Master</td>\n",
       "      <td>Super Grand Master</td>\n",
       "      <td>10</td>\n",
       "      <td>-20</td>\n",
       "      <td>Standard</td>\n",
       "      <td>King's Indian Attack</td>\n",
       "      <td>Long Classical (180 min)</td>\n",
       "      <td>Normal</td>\n",
       "      <td>2021</td>\n",
       "      <td>07</td>\n",
       "    </tr>\n",
       "    <tr>\n",
       "      <th>2</th>\n",
       "      <td>DrNykterstein</td>\n",
       "      <td>Jasugi99</td>\n",
       "      <td>1</td>\n",
       "      <td>Super Grand Master</td>\n",
       "      <td>International Master</td>\n",
       "      <td>2</td>\n",
       "      <td>0</td>\n",
       "      <td>Standard</td>\n",
       "      <td>St. George Defense</td>\n",
       "      <td>Long Classical (180 min)</td>\n",
       "      <td>Normal</td>\n",
       "      <td>2021</td>\n",
       "      <td>07</td>\n",
       "    </tr>\n",
       "    <tr>\n",
       "      <th>3</th>\n",
       "      <td>Chesstoday</td>\n",
       "      <td>DrNykterstein</td>\n",
       "      <td>1</td>\n",
       "      <td>Grand Master</td>\n",
       "      <td>Super Grand Master</td>\n",
       "      <td>10</td>\n",
       "      <td>-20</td>\n",
       "      <td>Standard</td>\n",
       "      <td>Scotch Game</td>\n",
       "      <td>Long Classical (180 min)</td>\n",
       "      <td>Normal</td>\n",
       "      <td>2021</td>\n",
       "      <td>07</td>\n",
       "    </tr>\n",
       "    <tr>\n",
       "      <th>4</th>\n",
       "      <td>DrNykterstein</td>\n",
       "      <td>Alexsur81</td>\n",
       "      <td>1</td>\n",
       "      <td>Super Grand Master</td>\n",
       "      <td>Grand Master</td>\n",
       "      <td>3</td>\n",
       "      <td>-2</td>\n",
       "      <td>Standard</td>\n",
       "      <td>King's Indian Attack</td>\n",
       "      <td>Long Classical (180 min)</td>\n",
       "      <td>Normal</td>\n",
       "      <td>2021</td>\n",
       "      <td>07</td>\n",
       "    </tr>\n",
       "    <tr>\n",
       "      <th>...</th>\n",
       "      <td>...</td>\n",
       "      <td>...</td>\n",
       "      <td>...</td>\n",
       "      <td>...</td>\n",
       "      <td>...</td>\n",
       "      <td>...</td>\n",
       "      <td>...</td>\n",
       "      <td>...</td>\n",
       "      <td>...</td>\n",
       "      <td>...</td>\n",
       "      <td>...</td>\n",
       "      <td>...</td>\n",
       "      <td>...</td>\n",
       "    </tr>\n",
       "    <tr>\n",
       "      <th>8681</th>\n",
       "      <td>Inventing_Invention</td>\n",
       "      <td>DrNykterstein</td>\n",
       "      <td>0</td>\n",
       "      <td>International Master</td>\n",
       "      <td>Master</td>\n",
       "      <td>-15</td>\n",
       "      <td>52</td>\n",
       "      <td>Standard</td>\n",
       "      <td>Zukertort Opening</td>\n",
       "      <td>Classical (60 min)</td>\n",
       "      <td>Normal</td>\n",
       "      <td>2018</td>\n",
       "      <td>12</td>\n",
       "    </tr>\n",
       "    <tr>\n",
       "      <th>8682</th>\n",
       "      <td>DrNykterstein</td>\n",
       "      <td>Chalalpa</td>\n",
       "      <td>1</td>\n",
       "      <td>Master</td>\n",
       "      <td>Master</td>\n",
       "      <td>23</td>\n",
       "      <td>-6</td>\n",
       "      <td>Standard</td>\n",
       "      <td>Indian Defense</td>\n",
       "      <td>Classical (60 min)</td>\n",
       "      <td>Normal</td>\n",
       "      <td>2018</td>\n",
       "      <td>12</td>\n",
       "    </tr>\n",
       "    <tr>\n",
       "      <th>8683</th>\n",
       "      <td>fuglfonix</td>\n",
       "      <td>DrNykterstein</td>\n",
       "      <td>0</td>\n",
       "      <td>Expert</td>\n",
       "      <td>Master</td>\n",
       "      <td>-3</td>\n",
       "      <td>8</td>\n",
       "      <td>Standard</td>\n",
       "      <td>Blackmar-Diemer Gambit</td>\n",
       "      <td>Classical (60 min)</td>\n",
       "      <td>Normal</td>\n",
       "      <td>2018</td>\n",
       "      <td>12</td>\n",
       "    </tr>\n",
       "    <tr>\n",
       "      <th>8684</th>\n",
       "      <td>DrNykterstein</td>\n",
       "      <td>TimeToShine</td>\n",
       "      <td>1</td>\n",
       "      <td>Master</td>\n",
       "      <td>Master</td>\n",
       "      <td>31</td>\n",
       "      <td>-7</td>\n",
       "      <td>Standard</td>\n",
       "      <td>English Opening</td>\n",
       "      <td>Classical (60 min)</td>\n",
       "      <td>Normal</td>\n",
       "      <td>2018</td>\n",
       "      <td>12</td>\n",
       "    </tr>\n",
       "    <tr>\n",
       "      <th>8685</th>\n",
       "      <td>DrNykterstein</td>\n",
       "      <td>PlayForWinAlways</td>\n",
       "      <td>0</td>\n",
       "      <td>Master</td>\n",
       "      <td>Master</td>\n",
       "      <td>-53</td>\n",
       "      <td>11</td>\n",
       "      <td>Standard</td>\n",
       "      <td>King's Indian Defense</td>\n",
       "      <td>Classical (60 min)</td>\n",
       "      <td>Normal</td>\n",
       "      <td>2018</td>\n",
       "      <td>12</td>\n",
       "    </tr>\n",
       "  </tbody>\n",
       "</table>\n",
       "<p>7980 rows × 13 columns</p>\n",
       "</div>"
      ],
      "text/plain": [
       "                    White             Black Result              WhiteElo  \\\n",
       "0           DrNykterstein           mutdpro      1    Super Grand Master   \n",
       "1                sumsar42     DrNykterstein      1          Grand Master   \n",
       "2           DrNykterstein          Jasugi99      1    Super Grand Master   \n",
       "3              Chesstoday     DrNykterstein      1          Grand Master   \n",
       "4           DrNykterstein         Alexsur81      1    Super Grand Master   \n",
       "...                   ...               ...    ...                   ...   \n",
       "8681  Inventing_Invention     DrNykterstein      0  International Master   \n",
       "8682        DrNykterstein          Chalalpa      1                Master   \n",
       "8683            fuglfonix     DrNykterstein      0                Expert   \n",
       "8684        DrNykterstein       TimeToShine      1                Master   \n",
       "8685        DrNykterstein  PlayForWinAlways      0                Master   \n",
       "\n",
       "                  BlackElo  WhiteRatingDiff  BlackRatingDiff   Variant  \\\n",
       "0             Grand Master                4               -2  Standard   \n",
       "1       Super Grand Master               10              -20  Standard   \n",
       "2     International Master                2                0  Standard   \n",
       "3       Super Grand Master               10              -20  Standard   \n",
       "4             Grand Master                3               -2  Standard   \n",
       "...                    ...              ...              ...       ...   \n",
       "8681                Master              -15               52  Standard   \n",
       "8682                Master               23               -6  Standard   \n",
       "8683                Master               -3                8  Standard   \n",
       "8684                Master               31               -7  Standard   \n",
       "8685                Master              -53               11  Standard   \n",
       "\n",
       "                     Opening               TimeControl Termination  Year Month  \n",
       "0           Sicilian Defense  Long Classical (180 min)      Normal  2021    07  \n",
       "1       King's Indian Attack  Long Classical (180 min)      Normal  2021    07  \n",
       "2         St. George Defense  Long Classical (180 min)      Normal  2021    07  \n",
       "3                Scotch Game  Long Classical (180 min)      Normal  2021    07  \n",
       "4       King's Indian Attack  Long Classical (180 min)      Normal  2021    07  \n",
       "...                      ...                       ...         ...   ...   ...  \n",
       "8681       Zukertort Opening        Classical (60 min)      Normal  2018    12  \n",
       "8682          Indian Defense        Classical (60 min)      Normal  2018    12  \n",
       "8683  Blackmar-Diemer Gambit        Classical (60 min)      Normal  2018    12  \n",
       "8684         English Opening        Classical (60 min)      Normal  2018    12  \n",
       "8685   King's Indian Defense        Classical (60 min)      Normal  2018    12  \n",
       "\n",
       "[7980 rows x 13 columns]"
      ]
     },
     "execution_count": 32,
     "metadata": {},
     "output_type": "execute_result"
    }
   ],
   "source": [
    "data"
   ]
  },
  {
   "cell_type": "code",
   "execution_count": 56,
   "metadata": {},
   "outputs": [],
   "source": [
    "# if white is DrNykterstein, and result is 1, then winner is white\n",
    "data['Result'] = np.where(np.where(data['White'] == 'DrNykterstein', data['Result'] == '1', True), 'Lost', 'Won')"
   ]
  },
  {
   "cell_type": "code",
   "execution_count": 57,
   "metadata": {},
   "outputs": [
    {
     "data": {
      "text/html": [
       "<div>\n",
       "<style scoped>\n",
       "    .dataframe tbody tr th:only-of-type {\n",
       "        vertical-align: middle;\n",
       "    }\n",
       "\n",
       "    .dataframe tbody tr th {\n",
       "        vertical-align: top;\n",
       "    }\n",
       "\n",
       "    .dataframe thead th {\n",
       "        text-align: right;\n",
       "    }\n",
       "</style>\n",
       "<table border=\"1\" class=\"dataframe\">\n",
       "  <thead>\n",
       "    <tr style=\"text-align: right;\">\n",
       "      <th></th>\n",
       "      <th>White</th>\n",
       "      <th>Black</th>\n",
       "      <th>Result</th>\n",
       "      <th>WhiteElo</th>\n",
       "      <th>BlackElo</th>\n",
       "      <th>WhiteRatingDiff</th>\n",
       "      <th>BlackRatingDiff</th>\n",
       "      <th>Variant</th>\n",
       "      <th>Opening</th>\n",
       "      <th>TimeControl</th>\n",
       "      <th>Termination</th>\n",
       "      <th>Year</th>\n",
       "      <th>Month</th>\n",
       "    </tr>\n",
       "  </thead>\n",
       "  <tbody>\n",
       "    <tr>\n",
       "      <th>0</th>\n",
       "      <td>DrNykterstein</td>\n",
       "      <td>Player1</td>\n",
       "      <td>Won</td>\n",
       "      <td>Super Grand Master</td>\n",
       "      <td>Grand Master</td>\n",
       "      <td>4</td>\n",
       "      <td>-2</td>\n",
       "      <td>Standard</td>\n",
       "      <td>1</td>\n",
       "      <td>Long Classical (180 min)</td>\n",
       "      <td>Normal</td>\n",
       "      <td>2021</td>\n",
       "      <td>07</td>\n",
       "    </tr>\n",
       "    <tr>\n",
       "      <th>1</th>\n",
       "      <td>Player1</td>\n",
       "      <td>DrNykterstein</td>\n",
       "      <td>Lost</td>\n",
       "      <td>Grand Master</td>\n",
       "      <td>Super Grand Master</td>\n",
       "      <td>10</td>\n",
       "      <td>-20</td>\n",
       "      <td>Standard</td>\n",
       "      <td>11</td>\n",
       "      <td>Long Classical (180 min)</td>\n",
       "      <td>Normal</td>\n",
       "      <td>2021</td>\n",
       "      <td>07</td>\n",
       "    </tr>\n",
       "    <tr>\n",
       "      <th>2</th>\n",
       "      <td>DrNykterstein</td>\n",
       "      <td>Player1</td>\n",
       "      <td>Won</td>\n",
       "      <td>Super Grand Master</td>\n",
       "      <td>International Master</td>\n",
       "      <td>2</td>\n",
       "      <td>0</td>\n",
       "      <td>Standard</td>\n",
       "      <td>11</td>\n",
       "      <td>Long Classical (180 min)</td>\n",
       "      <td>Normal</td>\n",
       "      <td>2021</td>\n",
       "      <td>07</td>\n",
       "    </tr>\n",
       "    <tr>\n",
       "      <th>3</th>\n",
       "      <td>Player1</td>\n",
       "      <td>DrNykterstein</td>\n",
       "      <td>Lost</td>\n",
       "      <td>Grand Master</td>\n",
       "      <td>Super Grand Master</td>\n",
       "      <td>10</td>\n",
       "      <td>-20</td>\n",
       "      <td>Standard</td>\n",
       "      <td>11</td>\n",
       "      <td>Long Classical (180 min)</td>\n",
       "      <td>Normal</td>\n",
       "      <td>2021</td>\n",
       "      <td>07</td>\n",
       "    </tr>\n",
       "    <tr>\n",
       "      <th>4</th>\n",
       "      <td>DrNykterstein</td>\n",
       "      <td>Player1</td>\n",
       "      <td>Won</td>\n",
       "      <td>Super Grand Master</td>\n",
       "      <td>Grand Master</td>\n",
       "      <td>3</td>\n",
       "      <td>-2</td>\n",
       "      <td>Standard</td>\n",
       "      <td>11</td>\n",
       "      <td>Long Classical (180 min)</td>\n",
       "      <td>Normal</td>\n",
       "      <td>2021</td>\n",
       "      <td>07</td>\n",
       "    </tr>\n",
       "    <tr>\n",
       "      <th>...</th>\n",
       "      <td>...</td>\n",
       "      <td>...</td>\n",
       "      <td>...</td>\n",
       "      <td>...</td>\n",
       "      <td>...</td>\n",
       "      <td>...</td>\n",
       "      <td>...</td>\n",
       "      <td>...</td>\n",
       "      <td>...</td>\n",
       "      <td>...</td>\n",
       "      <td>...</td>\n",
       "      <td>...</td>\n",
       "      <td>...</td>\n",
       "    </tr>\n",
       "    <tr>\n",
       "      <th>8681</th>\n",
       "      <td>Player1</td>\n",
       "      <td>DrNykterstein</td>\n",
       "      <td>Lost</td>\n",
       "      <td>International Master</td>\n",
       "      <td>Master</td>\n",
       "      <td>-15</td>\n",
       "      <td>52</td>\n",
       "      <td>Standard</td>\n",
       "      <td>11</td>\n",
       "      <td>Classical (60 min)</td>\n",
       "      <td>Normal</td>\n",
       "      <td>2018</td>\n",
       "      <td>12</td>\n",
       "    </tr>\n",
       "    <tr>\n",
       "      <th>8682</th>\n",
       "      <td>DrNykterstein</td>\n",
       "      <td>Player1</td>\n",
       "      <td>Won</td>\n",
       "      <td>Master</td>\n",
       "      <td>Master</td>\n",
       "      <td>23</td>\n",
       "      <td>-6</td>\n",
       "      <td>Standard</td>\n",
       "      <td>10</td>\n",
       "      <td>Classical (60 min)</td>\n",
       "      <td>Normal</td>\n",
       "      <td>2018</td>\n",
       "      <td>12</td>\n",
       "    </tr>\n",
       "    <tr>\n",
       "      <th>8683</th>\n",
       "      <td>Player1</td>\n",
       "      <td>DrNykterstein</td>\n",
       "      <td>Lost</td>\n",
       "      <td>Expert</td>\n",
       "      <td>Master</td>\n",
       "      <td>-3</td>\n",
       "      <td>8</td>\n",
       "      <td>Standard</td>\n",
       "      <td>11</td>\n",
       "      <td>Classical (60 min)</td>\n",
       "      <td>Normal</td>\n",
       "      <td>2018</td>\n",
       "      <td>12</td>\n",
       "    </tr>\n",
       "    <tr>\n",
       "      <th>8684</th>\n",
       "      <td>DrNykterstein</td>\n",
       "      <td>Player1</td>\n",
       "      <td>Won</td>\n",
       "      <td>Master</td>\n",
       "      <td>Master</td>\n",
       "      <td>31</td>\n",
       "      <td>-7</td>\n",
       "      <td>Standard</td>\n",
       "      <td>2</td>\n",
       "      <td>Classical (60 min)</td>\n",
       "      <td>Normal</td>\n",
       "      <td>2018</td>\n",
       "      <td>12</td>\n",
       "    </tr>\n",
       "    <tr>\n",
       "      <th>8685</th>\n",
       "      <td>DrNykterstein</td>\n",
       "      <td>Player1</td>\n",
       "      <td>Won</td>\n",
       "      <td>Master</td>\n",
       "      <td>Master</td>\n",
       "      <td>-53</td>\n",
       "      <td>11</td>\n",
       "      <td>Standard</td>\n",
       "      <td>7</td>\n",
       "      <td>Classical (60 min)</td>\n",
       "      <td>Normal</td>\n",
       "      <td>2018</td>\n",
       "      <td>12</td>\n",
       "    </tr>\n",
       "  </tbody>\n",
       "</table>\n",
       "<p>7980 rows × 13 columns</p>\n",
       "</div>"
      ],
      "text/plain": [
       "              White          Black Result              WhiteElo  \\\n",
       "0     DrNykterstein        Player1    Won    Super Grand Master   \n",
       "1           Player1  DrNykterstein   Lost          Grand Master   \n",
       "2     DrNykterstein        Player1    Won    Super Grand Master   \n",
       "3           Player1  DrNykterstein   Lost          Grand Master   \n",
       "4     DrNykterstein        Player1    Won    Super Grand Master   \n",
       "...             ...            ...    ...                   ...   \n",
       "8681        Player1  DrNykterstein   Lost  International Master   \n",
       "8682  DrNykterstein        Player1    Won                Master   \n",
       "8683        Player1  DrNykterstein   Lost                Expert   \n",
       "8684  DrNykterstein        Player1    Won                Master   \n",
       "8685  DrNykterstein        Player1    Won                Master   \n",
       "\n",
       "                  BlackElo  WhiteRatingDiff  BlackRatingDiff   Variant  \\\n",
       "0             Grand Master                4               -2  Standard   \n",
       "1       Super Grand Master               10              -20  Standard   \n",
       "2     International Master                2                0  Standard   \n",
       "3       Super Grand Master               10              -20  Standard   \n",
       "4             Grand Master                3               -2  Standard   \n",
       "...                    ...              ...              ...       ...   \n",
       "8681                Master              -15               52  Standard   \n",
       "8682                Master               23               -6  Standard   \n",
       "8683                Master               -3                8  Standard   \n",
       "8684                Master               31               -7  Standard   \n",
       "8685                Master              -53               11  Standard   \n",
       "\n",
       "     Opening               TimeControl Termination  Year Month  \n",
       "0          1  Long Classical (180 min)      Normal  2021    07  \n",
       "1         11  Long Classical (180 min)      Normal  2021    07  \n",
       "2         11  Long Classical (180 min)      Normal  2021    07  \n",
       "3         11  Long Classical (180 min)      Normal  2021    07  \n",
       "4         11  Long Classical (180 min)      Normal  2021    07  \n",
       "...      ...                       ...         ...   ...   ...  \n",
       "8681      11        Classical (60 min)      Normal  2018    12  \n",
       "8682      10        Classical (60 min)      Normal  2018    12  \n",
       "8683      11        Classical (60 min)      Normal  2018    12  \n",
       "8684       2        Classical (60 min)      Normal  2018    12  \n",
       "8685       7        Classical (60 min)      Normal  2018    12  \n",
       "\n",
       "[7980 rows x 13 columns]"
      ]
     },
     "execution_count": 57,
     "metadata": {},
     "output_type": "execute_result"
    }
   ],
   "source": [
    "data"
   ]
  },
  {
   "cell_type": "code",
   "execution_count": 58,
   "metadata": {},
   "outputs": [],
   "source": [
    "# number of games won by DrNykterstein as white\n",
    "DrNykterstein_won = np.count_nonzero(np.where(np.where(data['White'] == 'DrNykterstein', data['Result'] == '1', True), '0', '1') == '1')\n",
    "# number of games lost by DrNykterstein as white\n",
    "DrNykterstein_lost = np.count_nonzero(np.where(np.where(data['White'] == 'DrNykterstein', data['Result'] == '1', True), '0', '1') == '0')"
   ]
  },
  {
   "cell_type": "code",
   "execution_count": 59,
   "metadata": {},
   "outputs": [],
   "source": [
    "Final_result = pd.DataFrame({'Player': ['DrNykterstein'], 'Win': [DrNykterstein_won], 'Loss': [DrNykterstein_lost]})"
   ]
  },
  {
   "cell_type": "code",
   "execution_count": 60,
   "metadata": {},
   "outputs": [
    {
     "name": "stdout",
     "output_type": "stream",
     "text": [
      "Win ratio of DrNykterstein is 50.76 %\n",
      "Loss ratio of DrNykterstein is 49.24 %\n"
     ]
    }
   ],
   "source": [
    "win_ratio = round(DrNykterstein_won / (DrNykterstein_won + DrNykterstein_lost) * 100, 2)\n",
    "print('Win ratio of DrNykterstein is', win_ratio, '%')\n",
    "\n",
    "loss_ratio = round(DrNykterstein_lost / (DrNykterstein_won + DrNykterstein_lost) * 100, 2)\n",
    "print('Loss ratio of DrNykterstein is', loss_ratio, '%')"
   ]
  },
  {
   "cell_type": "code",
   "execution_count": 61,
   "metadata": {},
   "outputs": [
    {
     "data": {
      "text/html": [
       "<div>\n",
       "<style scoped>\n",
       "    .dataframe tbody tr th:only-of-type {\n",
       "        vertical-align: middle;\n",
       "    }\n",
       "\n",
       "    .dataframe tbody tr th {\n",
       "        vertical-align: top;\n",
       "    }\n",
       "\n",
       "    .dataframe thead th {\n",
       "        text-align: right;\n",
       "    }\n",
       "</style>\n",
       "<table border=\"1\" class=\"dataframe\">\n",
       "  <thead>\n",
       "    <tr style=\"text-align: right;\">\n",
       "      <th></th>\n",
       "      <th>Player</th>\n",
       "      <th>Win</th>\n",
       "      <th>Loss</th>\n",
       "    </tr>\n",
       "  </thead>\n",
       "  <tbody>\n",
       "    <tr>\n",
       "      <th>0</th>\n",
       "      <td>DrNykterstein</td>\n",
       "      <td>4051</td>\n",
       "      <td>3929</td>\n",
       "    </tr>\n",
       "  </tbody>\n",
       "</table>\n",
       "</div>"
      ],
      "text/plain": [
       "          Player   Win  Loss\n",
       "0  DrNykterstein  4051  3929"
      ]
     },
     "execution_count": 61,
     "metadata": {},
     "output_type": "execute_result"
    }
   ],
   "source": [
    "Final_result"
   ]
  },
  {
   "cell_type": "code",
   "execution_count": 62,
   "metadata": {},
   "outputs": [],
   "source": [
    "data['Result'] = data['Result'].replace(['1', '0'], ['Won', 'Lost'])"
   ]
  },
  {
   "cell_type": "code",
   "execution_count": 63,
   "metadata": {},
   "outputs": [],
   "source": [
    "# replace the name of all players except DrNykterstein with 'DrNykterstein'\n",
    "data['White'] = np.where(data['White'] != 'DrNykterstein', 'Player1', data['White'])\n",
    "data['Black'] = np.where(data['Black'] != 'DrNykterstein', 'Player1', data['Black'])\n"
   ]
  },
  {
   "cell_type": "code",
   "execution_count": 64,
   "metadata": {},
   "outputs": [
    {
     "data": {
      "text/html": [
       "<div>\n",
       "<style scoped>\n",
       "    .dataframe tbody tr th:only-of-type {\n",
       "        vertical-align: middle;\n",
       "    }\n",
       "\n",
       "    .dataframe tbody tr th {\n",
       "        vertical-align: top;\n",
       "    }\n",
       "\n",
       "    .dataframe thead th {\n",
       "        text-align: right;\n",
       "    }\n",
       "</style>\n",
       "<table border=\"1\" class=\"dataframe\">\n",
       "  <thead>\n",
       "    <tr style=\"text-align: right;\">\n",
       "      <th></th>\n",
       "      <th>White</th>\n",
       "      <th>Black</th>\n",
       "      <th>Result</th>\n",
       "      <th>WhiteElo</th>\n",
       "      <th>BlackElo</th>\n",
       "      <th>WhiteRatingDiff</th>\n",
       "      <th>BlackRatingDiff</th>\n",
       "      <th>Variant</th>\n",
       "      <th>Opening</th>\n",
       "      <th>TimeControl</th>\n",
       "      <th>Termination</th>\n",
       "      <th>Year</th>\n",
       "      <th>Month</th>\n",
       "    </tr>\n",
       "  </thead>\n",
       "  <tbody>\n",
       "    <tr>\n",
       "      <th>0</th>\n",
       "      <td>DrNykterstein</td>\n",
       "      <td>Player1</td>\n",
       "      <td>Won</td>\n",
       "      <td>Super Grand Master</td>\n",
       "      <td>Grand Master</td>\n",
       "      <td>4</td>\n",
       "      <td>-2</td>\n",
       "      <td>Standard</td>\n",
       "      <td>1</td>\n",
       "      <td>Long Classical (180 min)</td>\n",
       "      <td>Normal</td>\n",
       "      <td>2021</td>\n",
       "      <td>07</td>\n",
       "    </tr>\n",
       "    <tr>\n",
       "      <th>1</th>\n",
       "      <td>Player1</td>\n",
       "      <td>DrNykterstein</td>\n",
       "      <td>Lost</td>\n",
       "      <td>Grand Master</td>\n",
       "      <td>Super Grand Master</td>\n",
       "      <td>10</td>\n",
       "      <td>-20</td>\n",
       "      <td>Standard</td>\n",
       "      <td>11</td>\n",
       "      <td>Long Classical (180 min)</td>\n",
       "      <td>Normal</td>\n",
       "      <td>2021</td>\n",
       "      <td>07</td>\n",
       "    </tr>\n",
       "    <tr>\n",
       "      <th>2</th>\n",
       "      <td>DrNykterstein</td>\n",
       "      <td>Player1</td>\n",
       "      <td>Won</td>\n",
       "      <td>Super Grand Master</td>\n",
       "      <td>International Master</td>\n",
       "      <td>2</td>\n",
       "      <td>0</td>\n",
       "      <td>Standard</td>\n",
       "      <td>11</td>\n",
       "      <td>Long Classical (180 min)</td>\n",
       "      <td>Normal</td>\n",
       "      <td>2021</td>\n",
       "      <td>07</td>\n",
       "    </tr>\n",
       "    <tr>\n",
       "      <th>3</th>\n",
       "      <td>Player1</td>\n",
       "      <td>DrNykterstein</td>\n",
       "      <td>Lost</td>\n",
       "      <td>Grand Master</td>\n",
       "      <td>Super Grand Master</td>\n",
       "      <td>10</td>\n",
       "      <td>-20</td>\n",
       "      <td>Standard</td>\n",
       "      <td>11</td>\n",
       "      <td>Long Classical (180 min)</td>\n",
       "      <td>Normal</td>\n",
       "      <td>2021</td>\n",
       "      <td>07</td>\n",
       "    </tr>\n",
       "    <tr>\n",
       "      <th>4</th>\n",
       "      <td>DrNykterstein</td>\n",
       "      <td>Player1</td>\n",
       "      <td>Won</td>\n",
       "      <td>Super Grand Master</td>\n",
       "      <td>Grand Master</td>\n",
       "      <td>3</td>\n",
       "      <td>-2</td>\n",
       "      <td>Standard</td>\n",
       "      <td>11</td>\n",
       "      <td>Long Classical (180 min)</td>\n",
       "      <td>Normal</td>\n",
       "      <td>2021</td>\n",
       "      <td>07</td>\n",
       "    </tr>\n",
       "    <tr>\n",
       "      <th>...</th>\n",
       "      <td>...</td>\n",
       "      <td>...</td>\n",
       "      <td>...</td>\n",
       "      <td>...</td>\n",
       "      <td>...</td>\n",
       "      <td>...</td>\n",
       "      <td>...</td>\n",
       "      <td>...</td>\n",
       "      <td>...</td>\n",
       "      <td>...</td>\n",
       "      <td>...</td>\n",
       "      <td>...</td>\n",
       "      <td>...</td>\n",
       "    </tr>\n",
       "    <tr>\n",
       "      <th>8681</th>\n",
       "      <td>Player1</td>\n",
       "      <td>DrNykterstein</td>\n",
       "      <td>Lost</td>\n",
       "      <td>International Master</td>\n",
       "      <td>Master</td>\n",
       "      <td>-15</td>\n",
       "      <td>52</td>\n",
       "      <td>Standard</td>\n",
       "      <td>11</td>\n",
       "      <td>Classical (60 min)</td>\n",
       "      <td>Normal</td>\n",
       "      <td>2018</td>\n",
       "      <td>12</td>\n",
       "    </tr>\n",
       "    <tr>\n",
       "      <th>8682</th>\n",
       "      <td>DrNykterstein</td>\n",
       "      <td>Player1</td>\n",
       "      <td>Won</td>\n",
       "      <td>Master</td>\n",
       "      <td>Master</td>\n",
       "      <td>23</td>\n",
       "      <td>-6</td>\n",
       "      <td>Standard</td>\n",
       "      <td>10</td>\n",
       "      <td>Classical (60 min)</td>\n",
       "      <td>Normal</td>\n",
       "      <td>2018</td>\n",
       "      <td>12</td>\n",
       "    </tr>\n",
       "    <tr>\n",
       "      <th>8683</th>\n",
       "      <td>Player1</td>\n",
       "      <td>DrNykterstein</td>\n",
       "      <td>Lost</td>\n",
       "      <td>Expert</td>\n",
       "      <td>Master</td>\n",
       "      <td>-3</td>\n",
       "      <td>8</td>\n",
       "      <td>Standard</td>\n",
       "      <td>11</td>\n",
       "      <td>Classical (60 min)</td>\n",
       "      <td>Normal</td>\n",
       "      <td>2018</td>\n",
       "      <td>12</td>\n",
       "    </tr>\n",
       "    <tr>\n",
       "      <th>8684</th>\n",
       "      <td>DrNykterstein</td>\n",
       "      <td>Player1</td>\n",
       "      <td>Won</td>\n",
       "      <td>Master</td>\n",
       "      <td>Master</td>\n",
       "      <td>31</td>\n",
       "      <td>-7</td>\n",
       "      <td>Standard</td>\n",
       "      <td>2</td>\n",
       "      <td>Classical (60 min)</td>\n",
       "      <td>Normal</td>\n",
       "      <td>2018</td>\n",
       "      <td>12</td>\n",
       "    </tr>\n",
       "    <tr>\n",
       "      <th>8685</th>\n",
       "      <td>DrNykterstein</td>\n",
       "      <td>Player1</td>\n",
       "      <td>Won</td>\n",
       "      <td>Master</td>\n",
       "      <td>Master</td>\n",
       "      <td>-53</td>\n",
       "      <td>11</td>\n",
       "      <td>Standard</td>\n",
       "      <td>7</td>\n",
       "      <td>Classical (60 min)</td>\n",
       "      <td>Normal</td>\n",
       "      <td>2018</td>\n",
       "      <td>12</td>\n",
       "    </tr>\n",
       "  </tbody>\n",
       "</table>\n",
       "<p>7980 rows × 13 columns</p>\n",
       "</div>"
      ],
      "text/plain": [
       "              White          Black Result              WhiteElo  \\\n",
       "0     DrNykterstein        Player1    Won    Super Grand Master   \n",
       "1           Player1  DrNykterstein   Lost          Grand Master   \n",
       "2     DrNykterstein        Player1    Won    Super Grand Master   \n",
       "3           Player1  DrNykterstein   Lost          Grand Master   \n",
       "4     DrNykterstein        Player1    Won    Super Grand Master   \n",
       "...             ...            ...    ...                   ...   \n",
       "8681        Player1  DrNykterstein   Lost  International Master   \n",
       "8682  DrNykterstein        Player1    Won                Master   \n",
       "8683        Player1  DrNykterstein   Lost                Expert   \n",
       "8684  DrNykterstein        Player1    Won                Master   \n",
       "8685  DrNykterstein        Player1    Won                Master   \n",
       "\n",
       "                  BlackElo  WhiteRatingDiff  BlackRatingDiff   Variant  \\\n",
       "0             Grand Master                4               -2  Standard   \n",
       "1       Super Grand Master               10              -20  Standard   \n",
       "2     International Master                2                0  Standard   \n",
       "3       Super Grand Master               10              -20  Standard   \n",
       "4             Grand Master                3               -2  Standard   \n",
       "...                    ...              ...              ...       ...   \n",
       "8681                Master              -15               52  Standard   \n",
       "8682                Master               23               -6  Standard   \n",
       "8683                Master               -3                8  Standard   \n",
       "8684                Master               31               -7  Standard   \n",
       "8685                Master              -53               11  Standard   \n",
       "\n",
       "     Opening               TimeControl Termination  Year Month  \n",
       "0          1  Long Classical (180 min)      Normal  2021    07  \n",
       "1         11  Long Classical (180 min)      Normal  2021    07  \n",
       "2         11  Long Classical (180 min)      Normal  2021    07  \n",
       "3         11  Long Classical (180 min)      Normal  2021    07  \n",
       "4         11  Long Classical (180 min)      Normal  2021    07  \n",
       "...      ...                       ...         ...   ...   ...  \n",
       "8681      11        Classical (60 min)      Normal  2018    12  \n",
       "8682      10        Classical (60 min)      Normal  2018    12  \n",
       "8683      11        Classical (60 min)      Normal  2018    12  \n",
       "8684       2        Classical (60 min)      Normal  2018    12  \n",
       "8685       7        Classical (60 min)      Normal  2018    12  \n",
       "\n",
       "[7980 rows x 13 columns]"
      ]
     },
     "execution_count": 64,
     "metadata": {},
     "output_type": "execute_result"
    }
   ],
   "source": [
    "data"
   ]
  },
  {
   "cell_type": "code",
   "execution_count": 65,
   "metadata": {},
   "outputs": [
    {
     "data": {
      "text/plain": [
       "11    3684\n",
       "1      833\n",
       "2      494\n",
       "3      478\n",
       "4      466\n",
       "5      454\n",
       "6      397\n",
       "7      335\n",
       "8      295\n",
       "9      293\n",
       "Name: Opening, dtype: int64"
      ]
     },
     "execution_count": 65,
     "metadata": {},
     "output_type": "execute_result"
    }
   ],
   "source": [
    "data['Opening'].value_counts().head(10)"
   ]
  },
  {
   "cell_type": "code",
   "execution_count": 43,
   "metadata": {},
   "outputs": [],
   "source": [
    "# replace the name of all openings with numbers\n",
    "opening_keep = ['Sicilian Defense', 'English Opening', 'Modern Defense', \n",
    "                \"Queen's Pawn Game\", \"Queen's Gambit Declined\", \n",
    "                'Scandinavian Defense', \"King's Indian Defense\", \n",
    "                'Caro-Kann Defense', 'French Defense', 'Indian Defense']\n",
    "\n"
   ]
  },
  {
   "cell_type": "code",
   "execution_count": 44,
   "metadata": {},
   "outputs": [],
   "source": [
    "# changing the name of the openings to others except the ones in the list\n",
    "data['Opening'] = np.where(data['Opening'].isin(opening_keep), data['Opening'], 'Others')"
   ]
  },
  {
   "cell_type": "code",
   "execution_count": 45,
   "metadata": {},
   "outputs": [],
   "source": [
    "data['Opening'].replace(['Sicilian Defense', 'English Opening', 'Modern Defense', \n",
    "                \"Queen's Pawn Game\", \"Queen's Gambit Declined\", \n",
    "                'Scandinavian Defense', \"King's Indian Defense\", \n",
    "                'Caro-Kann Defense', 'French Defense', 'Indian Defense', 'Others'], ['1', '2', '3', '4', '5', '6', '7', '8', '9', '10', '11'], inplace=True)"
   ]
  },
  {
   "cell_type": "code",
   "execution_count": 46,
   "metadata": {},
   "outputs": [
    {
     "data": {
      "text/plain": [
       "<AxesSubplot:ylabel='Opening,White'>"
      ]
     },
     "execution_count": 46,
     "metadata": {},
     "output_type": "execute_result"
    },
    {
     "data": {
      "image/png": "[encoded data removed]",
      "text/plain": [
       "<Figure size 720x432 with 1 Axes>"
      ]
     },
     "metadata": {},
     "output_type": "display_data"
    }
   ],
   "source": [
    "# number of games played by DrNykterstein by opening plot\n",
    "data.groupby(['Opening', 'White'])['Result'].value_counts().unstack().sort_index().plot(kind='barh', figsize=(10,6), color=['#1DE9B6', '#FFCE56', '#FF6B6B', '#1DE9B6', '#FFCE56', '#FF6B6B', '#1DE9B6', '#FFCE56', '#FF6B6B', '#1DE9B6', '#FFCE56', '#FF6B6B'])"
   ]
  },
  {
   "cell_type": "code",
   "execution_count": 66,
   "metadata": {},
   "outputs": [],
   "source": [
    "data['Result'] = data['Result'].replace(['Won', 'Lost'], ['1', '0'])"
   ]
  },
  {
   "cell_type": "code",
   "execution_count": 68,
   "metadata": {},
   "outputs": [],
   "source": [
    "#data['TimeControl'] = data['TimeControl'].replace(['Rapid (15 min)', 'Classical (60 min)', 'Long Classical (180 min)'], ['30', '60', '180'], inplace=True)"
   ]
  },
  {
   "cell_type": "code",
   "execution_count": 70,
   "metadata": {},
   "outputs": [],
   "source": [
    "data['Termination'].replace(['Normal', 'Time forfeit'], ['1', '0'], inplace=True)"
   ]
  },
  {
   "cell_type": "code",
   "execution_count": 75,
   "metadata": {},
   "outputs": [],
   "source": [
    "data['Variant'].replace(['Standard', 'Atomic'], ['1', '2'], inplace=True)"
   ]
  },
  {
   "cell_type": "code",
   "execution_count": 77,
   "metadata": {},
   "outputs": [],
   "source": [
    "data['Year'].replace(['2018', '2019', '2020', '2021'], ['18', '19', '20', '21'], inplace=True)"
   ]
  },
  {
   "cell_type": "code",
   "execution_count": 79,
   "metadata": {},
   "outputs": [],
   "source": [
    "# converting the year column to int data type\n",
    "data['Year'] = data['Year'].astype(int)\n",
    "data['Month'] = data['Month'].astype(str)"
   ]
  },
  {
   "cell_type": "code",
   "execution_count": 98,
   "metadata": {},
   "outputs": [],
   "source": [
    "# numerical columns and categorical columns\n",
    "numerical_columns = ['Year', 'Month', 'White', 'Black', 'WhiteRatingDiff', 'BlackRatingDiff', 'Termination', 'Variant', 'Opening']\n",
    "categorical_columns = ['Result']"
   ]
  },
  {
   "cell_type": "code",
   "execution_count": 105,
   "metadata": {},
   "outputs": [
    {
     "data": {
      "text/html": [
       "<div>\n",
       "<style scoped>\n",
       "    .dataframe tbody tr th:only-of-type {\n",
       "        vertical-align: middle;\n",
       "    }\n",
       "\n",
       "    .dataframe tbody tr th {\n",
       "        vertical-align: top;\n",
       "    }\n",
       "\n",
       "    .dataframe thead th {\n",
       "        text-align: right;\n",
       "    }\n",
       "</style>\n",
       "<table border=\"1\" class=\"dataframe\">\n",
       "  <thead>\n",
       "    <tr style=\"text-align: right;\">\n",
       "      <th></th>\n",
       "      <th>Year</th>\n",
       "      <th>Month</th>\n",
       "      <th>White</th>\n",
       "      <th>Black</th>\n",
       "      <th>WhiteRatingDiff</th>\n",
       "      <th>BlackRatingDiff</th>\n",
       "      <th>Termination</th>\n",
       "      <th>Variant</th>\n",
       "      <th>Opening</th>\n",
       "    </tr>\n",
       "  </thead>\n",
       "  <tbody>\n",
       "    <tr>\n",
       "      <th>0</th>\n",
       "      <td>3</td>\n",
       "      <td>6</td>\n",
       "      <td>0</td>\n",
       "      <td>1</td>\n",
       "      <td>35</td>\n",
       "      <td>28</td>\n",
       "      <td>1</td>\n",
       "      <td>0</td>\n",
       "      <td>0</td>\n",
       "    </tr>\n",
       "    <tr>\n",
       "      <th>1</th>\n",
       "      <td>3</td>\n",
       "      <td>6</td>\n",
       "      <td>1</td>\n",
       "      <td>0</td>\n",
       "      <td>41</td>\n",
       "      <td>10</td>\n",
       "      <td>1</td>\n",
       "      <td>0</td>\n",
       "      <td>2</td>\n",
       "    </tr>\n",
       "    <tr>\n",
       "      <th>2</th>\n",
       "      <td>3</td>\n",
       "      <td>6</td>\n",
       "      <td>0</td>\n",
       "      <td>1</td>\n",
       "      <td>33</td>\n",
       "      <td>30</td>\n",
       "      <td>1</td>\n",
       "      <td>0</td>\n",
       "      <td>2</td>\n",
       "    </tr>\n",
       "    <tr>\n",
       "      <th>3</th>\n",
       "      <td>3</td>\n",
       "      <td>6</td>\n",
       "      <td>1</td>\n",
       "      <td>0</td>\n",
       "      <td>41</td>\n",
       "      <td>10</td>\n",
       "      <td>1</td>\n",
       "      <td>0</td>\n",
       "      <td>2</td>\n",
       "    </tr>\n",
       "    <tr>\n",
       "      <th>4</th>\n",
       "      <td>3</td>\n",
       "      <td>6</td>\n",
       "      <td>0</td>\n",
       "      <td>1</td>\n",
       "      <td>34</td>\n",
       "      <td>28</td>\n",
       "      <td>1</td>\n",
       "      <td>0</td>\n",
       "      <td>2</td>\n",
       "    </tr>\n",
       "  </tbody>\n",
       "</table>\n",
       "</div>"
      ],
      "text/plain": [
       "   Year  Month  White  Black  WhiteRatingDiff  BlackRatingDiff Termination  \\\n",
       "0     3      6      0      1               35               28           1   \n",
       "1     3      6      1      0               41               10           1   \n",
       "2     3      6      0      1               33               30           1   \n",
       "3     3      6      1      0               41               10           1   \n",
       "4     3      6      0      1               34               28           1   \n",
       "\n",
       "   Variant  Opening  \n",
       "0        0        0  \n",
       "1        0        2  \n",
       "2        0        2  \n",
       "3        0        2  \n",
       "4        0        2  "
      ]
     },
     "execution_count": 105,
     "metadata": {},
     "output_type": "execute_result"
    }
   ],
   "source": [
    "data[numerical_columns].head(5)"
   ]
  },
  {
   "cell_type": "code",
   "execution_count": 100,
   "metadata": {},
   "outputs": [
    {
     "data": {
      "text/html": [
       "<div>\n",
       "<style scoped>\n",
       "    .dataframe tbody tr th:only-of-type {\n",
       "        vertical-align: middle;\n",
       "    }\n",
       "\n",
       "    .dataframe tbody tr th {\n",
       "        vertical-align: top;\n",
       "    }\n",
       "\n",
       "    .dataframe thead th {\n",
       "        text-align: right;\n",
       "    }\n",
       "</style>\n",
       "<table border=\"1\" class=\"dataframe\">\n",
       "  <thead>\n",
       "    <tr style=\"text-align: right;\">\n",
       "      <th></th>\n",
       "      <th>Result</th>\n",
       "    </tr>\n",
       "  </thead>\n",
       "  <tbody>\n",
       "    <tr>\n",
       "      <th>0</th>\n",
       "      <td>1</td>\n",
       "    </tr>\n",
       "    <tr>\n",
       "      <th>1</th>\n",
       "      <td>0</td>\n",
       "    </tr>\n",
       "    <tr>\n",
       "      <th>2</th>\n",
       "      <td>1</td>\n",
       "    </tr>\n",
       "    <tr>\n",
       "      <th>3</th>\n",
       "      <td>0</td>\n",
       "    </tr>\n",
       "    <tr>\n",
       "      <th>4</th>\n",
       "      <td>1</td>\n",
       "    </tr>\n",
       "  </tbody>\n",
       "</table>\n",
       "</div>"
      ],
      "text/plain": [
       "   Result\n",
       "0       1\n",
       "1       0\n",
       "2       1\n",
       "3       0\n",
       "4       1"
      ]
     },
     "execution_count": 100,
     "metadata": {},
     "output_type": "execute_result"
    }
   ],
   "source": [
    "data[categorical_columns].head(5)"
   ]
  },
  {
   "cell_type": "code",
   "execution_count": 102,
   "metadata": {},
   "outputs": [],
   "source": [
    "from sklearn.preprocessing import LabelEncoder\n",
    "encoder = LabelEncoder()\n",
    "\n",
    "data['White'] = encoder.fit_transform(data['White']) "
   ]
  },
  {
   "cell_type": "code",
   "execution_count": 103,
   "metadata": {},
   "outputs": [],
   "source": [
    "data['Black'] = encoder.fit_transform(data['Black']) "
   ]
  },
  {
   "cell_type": "code",
   "execution_count": 104,
   "metadata": {},
   "outputs": [],
   "source": [
    "data['Year'] = encoder.fit_transform(data['Year']) \n",
    "data['Month'] = encoder.fit_transform(data['Month']) \n",
    "data['WhiteRatingDiff'] = encoder.fit_transform(data['WhiteRatingDiff']) \n",
    "data['BlackRatingDiff'] = encoder.fit_transform(data['BlackRatingDiff']) \n",
    "data['Variant'] = encoder.fit_transform(data['Variant']) \n",
    "data['Opening'] = encoder.fit_transform(data['Opening']) \n"
   ]
  },
  {
   "cell_type": "code",
   "execution_count": 106,
   "metadata": {},
   "outputs": [],
   "source": [
    "data['Termination'] = encoder.fit_transform(data['Termination'])"
   ]
  },
  {
   "cell_type": "code",
   "execution_count": 107,
   "metadata": {},
   "outputs": [],
   "source": [
    "# splitting the data into train and test\n",
    "from sklearn.model_selection import train_test_split\n",
    "\n",
    "X_train, X_test, y_train, y_test = train_test_split(data[numerical_columns], data[categorical_columns], test_size=0.3, random_state=42)"
   ]
  },
  {
   "cell_type": "code",
   "execution_count": 111,
   "metadata": {},
   "outputs": [
    {
     "data": {
      "text/plain": [
       "RandomForestClassifier(max_depth=2, random_state=0)"
      ]
     },
     "execution_count": 111,
     "metadata": {},
     "output_type": "execute_result"
    }
   ],
   "source": [
    "# random forest classifier\n",
    "from sklearn.ensemble import RandomForestClassifier\n",
    "clf = RandomForestClassifier(n_estimators=100, max_depth=2, random_state=0)\n",
    "\n",
    "clf.fit(X_train, y_train)\n"
   ]
  },
  {
   "cell_type": "code",
   "execution_count": 112,
   "metadata": {},
   "outputs": [
    {
     "data": {
      "text/plain": [
       "1.0"
      ]
     },
     "execution_count": 112,
     "metadata": {},
     "output_type": "execute_result"
    }
   ],
   "source": [
    "# accuracy of the model\n",
    "accuracy = clf.score(X_test, y_test)\n",
    "accuracy"
   ]
  },
  {
   "cell_type": "code",
   "execution_count": 115,
   "metadata": {},
   "outputs": [
    {
     "name": "stdout",
     "output_type": "stream",
     "text": [
      "[1 1 1 ... 1 0 1]       Result\n",
      "3100       1\n",
      "2722       1\n",
      "7760       1\n",
      "6400       0\n",
      "8471       1\n",
      "...      ...\n",
      "1079       0\n",
      "7375       1\n",
      "3067       1\n",
      "7660       0\n",
      "1403       1\n",
      "\n",
      "[2394 rows x 1 columns]\n"
     ]
    }
   ],
   "source": [
    "# predicting the result of the test data vs the actual result\n",
    "predicted = clf.predict(X_test)\n",
    "print(predicted, y_test)"
   ]
  }
 ],
 "metadata": {
  "interpreter": {
   "hash": "fd97c83a05a6158796df7c815d88d794bb167b78dbdec74c9c054f7223ee838e"
  },
  "kernelspec": {
   "display_name": "Python 3.9.12 ('ml')",
   "language": "python",
   "name": "python3"
  },
  "language_info": {
   "codemirror_mode": {
    "name": "ipython",
    "version": 3
   },
   "file_extension": ".py",
   "mimetype": "text/x-python",
   "name": "python",
   "nbconvert_exporter": "python",
   "pygments_lexer": "ipython3",
   "version": "3.9.12"
  },
  "orig_nbformat": 4
 },
 "nbformat": 4,
 "nbformat_minor": 2
}
